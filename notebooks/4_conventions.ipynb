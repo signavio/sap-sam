{
 "cells": [
  {
   "cell_type": "code",
   "execution_count": 1,
   "id": "b8f3c8e6-aaaf-49d4-a292-cc6375a0bcad",
   "metadata": {
    "scrolled": true
   },
   "outputs": [],
   "source": [
    "%reload_ext autoreload\n",
    "%autoreload\n",
    "import sys\n",
    "sys.path.append(\"../src\")"
   ]
  },
  {
   "cell_type": "code",
   "execution_count": 2,
   "id": "57208e57-d575-4651-a156-de5c5cce5289",
   "metadata": {},
   "outputs": [],
   "source": [
    "import os\n",
    "import pandas as pd\n",
    "import json\n",
    "import csv\n",
    "from tqdm import tqdm\n",
    "\n",
    "from sapsam import parser, constants\n",
    "from sapsam.SignavioConventionsChecker import bp_conventions_checker, syntax_checker\n",
    "from sapsam.SignavioAuthenticator import SignavioAuthenticator"
   ]
  },
  {
   "cell_type": "markdown",
   "id": "e72bff47-185d-4b2d-b64c-7bd0d0d3d028",
   "metadata": {},
   "source": [
    "# Read data"
   ]
  },
  {
   "cell_type": "markdown",
   "id": "f1fd1d6d-0929-48b9-9486-61d5a883bae5",
   "metadata": {},
   "source": [
    "Let's first read in the data of a model in the dataset. A subset of the data is used here to prevent unnecessary memory usage."
   ]
  },
  {
   "cell_type": "code",
   "execution_count": 3,
   "id": "92da838f-4077-4f71-8c46-e2b4c14f2464",
   "metadata": {},
   "outputs": [
    {
     "name": "stderr",
     "output_type": "stream",
     "text": [
      "100%|██████████████████████████████████████████████████████████████████████████████████████████████████████████| 2/2 [00:00<00:00, 732.63it/s]\n"
     ]
    },
    {
     "data": {
      "text/html": [
       "<div>\n",
       "<style scoped>\n",
       "    .dataframe tbody tr th:only-of-type {\n",
       "        vertical-align: middle;\n",
       "    }\n",
       "\n",
       "    .dataframe tbody tr th {\n",
       "        vertical-align: top;\n",
       "    }\n",
       "\n",
       "    .dataframe thead th {\n",
       "        text-align: right;\n",
       "    }\n",
       "</style>\n",
       "<table border=\"1\" class=\"dataframe\">\n",
       "  <thead>\n",
       "    <tr style=\"text-align: right;\">\n",
       "      <th></th>\n",
       "      <th>revision_id</th>\n",
       "      <th>organization_id</th>\n",
       "      <th>datetime</th>\n",
       "      <th>model_json</th>\n",
       "      <th>description</th>\n",
       "      <th>name</th>\n",
       "      <th>type</th>\n",
       "      <th>namespace</th>\n",
       "    </tr>\n",
       "    <tr>\n",
       "      <th>model_id</th>\n",
       "      <th></th>\n",
       "      <th></th>\n",
       "      <th></th>\n",
       "      <th></th>\n",
       "      <th></th>\n",
       "      <th></th>\n",
       "      <th></th>\n",
       "      <th></th>\n",
       "    </tr>\n",
       "  </thead>\n",
       "  <tbody>\n",
       "    <tr>\n",
       "      <th>0c4a4701a6524166adaab25fb9e06374</th>\n",
       "      <td>24280a31d8a045aebdbd69b996a848b7</td>\n",
       "      <td>c41660388a04449a995dccf97d894f46</td>\n",
       "      <td>2021-08-14 17:19:56</td>\n",
       "      <td>{\"resourceId\": \"canvas\", \"properties\": {\"name\"...</td>\n",
       "      <td>NaN</td>\n",
       "      <td>12345678</td>\n",
       "      <td>NaN</td>\n",
       "      <td>http://b3mn.org/stencilset/bpmn2.0#</td>\n",
       "    </tr>\n",
       "    <tr>\n",
       "      <th>0c4a6cb2013d488e811de3cca728d5b6</th>\n",
       "      <td>e839d9d1b7244acd8324ff4b05b4cf57</td>\n",
       "      <td>54bfa7a85e5741878102658795743f3a</td>\n",
       "      <td>2021-02-11 12:36:57</td>\n",
       "      <td>{\"resourceId\": \"canvas\", \"properties\": {\"orien...</td>\n",
       "      <td>NaN</td>\n",
       "      <td>Lösung zu Übung 1 BKMs Finanzierungsvergleich</td>\n",
       "      <td>NaN</td>\n",
       "      <td>http://signavio.com/stencilsets/dmn-1.0#</td>\n",
       "    </tr>\n",
       "    <tr>\n",
       "      <th>0c4a6e19f392466c9f5ea34f0753397d</th>\n",
       "      <td>cb8a1351a515467b822fae0cf0b527df</td>\n",
       "      <td>ea6228bbe6f14163a04b3d115bae768b</td>\n",
       "      <td>2021-04-03 17:01:03</td>\n",
       "      <td>{\"resourceId\": \"canvas\", \"properties\": {\"name\"...</td>\n",
       "      <td>NaN</td>\n",
       "      <td>homework1</td>\n",
       "      <td>NaN</td>\n",
       "      <td>http://b3mn.org/stencilset/bpmn2.0#</td>\n",
       "    </tr>\n",
       "    <tr>\n",
       "      <th>0c4a78ebe86f48aaa7860059c2c117db</th>\n",
       "      <td>a82d4aba3c5d40d39181aab57fe6c368</td>\n",
       "      <td>53efc177fa0a4e98af2fd3bf7be18470</td>\n",
       "      <td>2019-06-06 11:09:06</td>\n",
       "      <td>{\"resourceId\": \"canvas\", \"formats\": {\"document...</td>\n",
       "      <td>NaN</td>\n",
       "      <td>Mitarbeiter Onboarding</td>\n",
       "      <td>NaN</td>\n",
       "      <td>http://b3mn.org/stencilset/bpmn2.0#</td>\n",
       "    </tr>\n",
       "    <tr>\n",
       "      <th>0c4a80580f0143c691ea5bbbb1f42ba1</th>\n",
       "      <td>188fc2f3e52b429bbda22f12bfb01edc</td>\n",
       "      <td>a54008f9eb7b45129caa83592542548a</td>\n",
       "      <td>2017-07-02 19:11:17</td>\n",
       "      <td>{\"resourceId\": \"canvas\", \"properties\": {\"audit...</td>\n",
       "      <td>NaN</td>\n",
       "      <td>Jane Doe:Unterprozess:Auszahlung veranlassen</td>\n",
       "      <td>NaN</td>\n",
       "      <td>http://b3mn.org/stencilset/bpmn2.0#</td>\n",
       "    </tr>\n",
       "  </tbody>\n",
       "</table>\n",
       "</div>"
      ],
      "text/plain": [
       "                                                       revision_id  \\\n",
       "model_id                                                             \n",
       "0c4a4701a6524166adaab25fb9e06374  24280a31d8a045aebdbd69b996a848b7   \n",
       "0c4a6cb2013d488e811de3cca728d5b6  e839d9d1b7244acd8324ff4b05b4cf57   \n",
       "0c4a6e19f392466c9f5ea34f0753397d  cb8a1351a515467b822fae0cf0b527df   \n",
       "0c4a78ebe86f48aaa7860059c2c117db  a82d4aba3c5d40d39181aab57fe6c368   \n",
       "0c4a80580f0143c691ea5bbbb1f42ba1  188fc2f3e52b429bbda22f12bfb01edc   \n",
       "\n",
       "                                                   organization_id  \\\n",
       "model_id                                                             \n",
       "0c4a4701a6524166adaab25fb9e06374  c41660388a04449a995dccf97d894f46   \n",
       "0c4a6cb2013d488e811de3cca728d5b6  54bfa7a85e5741878102658795743f3a   \n",
       "0c4a6e19f392466c9f5ea34f0753397d  ea6228bbe6f14163a04b3d115bae768b   \n",
       "0c4a78ebe86f48aaa7860059c2c117db  53efc177fa0a4e98af2fd3bf7be18470   \n",
       "0c4a80580f0143c691ea5bbbb1f42ba1  a54008f9eb7b45129caa83592542548a   \n",
       "\n",
       "                                             datetime  \\\n",
       "model_id                                                \n",
       "0c4a4701a6524166adaab25fb9e06374  2021-08-14 17:19:56   \n",
       "0c4a6cb2013d488e811de3cca728d5b6  2021-02-11 12:36:57   \n",
       "0c4a6e19f392466c9f5ea34f0753397d  2021-04-03 17:01:03   \n",
       "0c4a78ebe86f48aaa7860059c2c117db  2019-06-06 11:09:06   \n",
       "0c4a80580f0143c691ea5bbbb1f42ba1  2017-07-02 19:11:17   \n",
       "\n",
       "                                                                         model_json  \\\n",
       "model_id                                                                              \n",
       "0c4a4701a6524166adaab25fb9e06374  {\"resourceId\": \"canvas\", \"properties\": {\"name\"...   \n",
       "0c4a6cb2013d488e811de3cca728d5b6  {\"resourceId\": \"canvas\", \"properties\": {\"orien...   \n",
       "0c4a6e19f392466c9f5ea34f0753397d  {\"resourceId\": \"canvas\", \"properties\": {\"name\"...   \n",
       "0c4a78ebe86f48aaa7860059c2c117db  {\"resourceId\": \"canvas\", \"formats\": {\"document...   \n",
       "0c4a80580f0143c691ea5bbbb1f42ba1  {\"resourceId\": \"canvas\", \"properties\": {\"audit...   \n",
       "\n",
       "                                 description  \\\n",
       "model_id                                       \n",
       "0c4a4701a6524166adaab25fb9e06374         NaN   \n",
       "0c4a6cb2013d488e811de3cca728d5b6         NaN   \n",
       "0c4a6e19f392466c9f5ea34f0753397d         NaN   \n",
       "0c4a78ebe86f48aaa7860059c2c117db         NaN   \n",
       "0c4a80580f0143c691ea5bbbb1f42ba1         NaN   \n",
       "\n",
       "                                                                           name  \\\n",
       "model_id                                                                          \n",
       "0c4a4701a6524166adaab25fb9e06374                                       12345678   \n",
       "0c4a6cb2013d488e811de3cca728d5b6  Lösung zu Übung 1 BKMs Finanzierungsvergleich   \n",
       "0c4a6e19f392466c9f5ea34f0753397d                                      homework1   \n",
       "0c4a78ebe86f48aaa7860059c2c117db                         Mitarbeiter Onboarding   \n",
       "0c4a80580f0143c691ea5bbbb1f42ba1   Jane Doe:Unterprozess:Auszahlung veranlassen   \n",
       "\n",
       "                                 type  \\\n",
       "model_id                                \n",
       "0c4a4701a6524166adaab25fb9e06374  NaN   \n",
       "0c4a6cb2013d488e811de3cca728d5b6  NaN   \n",
       "0c4a6e19f392466c9f5ea34f0753397d  NaN   \n",
       "0c4a78ebe86f48aaa7860059c2c117db  NaN   \n",
       "0c4a80580f0143c691ea5bbbb1f42ba1  NaN   \n",
       "\n",
       "                                                                 namespace  \n",
       "model_id                                                                    \n",
       "0c4a4701a6524166adaab25fb9e06374       http://b3mn.org/stencilset/bpmn2.0#  \n",
       "0c4a6cb2013d488e811de3cca728d5b6  http://signavio.com/stencilsets/dmn-1.0#  \n",
       "0c4a6e19f392466c9f5ea34f0753397d       http://b3mn.org/stencilset/bpmn2.0#  \n",
       "0c4a78ebe86f48aaa7860059c2c117db       http://b3mn.org/stencilset/bpmn2.0#  \n",
       "0c4a80580f0143c691ea5bbbb1f42ba1       http://b3mn.org/stencilset/bpmn2.0#  "
      ]
     },
     "metadata": {},
     "output_type": "display_data"
    }
   ],
   "source": [
    "df = parser.parse_model()\n",
    "display(df.head())"
   ]
  },
  {
   "cell_type": "markdown",
   "id": "cfad1b6b-6dde-4932-8403-6229e40b2afa",
   "metadata": {},
   "source": [
    "# Retrieving conventions"
   ]
  },
  {
   "cell_type": "markdown",
   "id": "7957a3c8-f88b-43f5-98a4-2a057a492e63",
   "metadata": {},
   "source": [
    "To perform the API request for Best Practices (BP) conventions, we need to set up a conf file (see instructions in notebook #3) and obtain the guideline ID of any workspace."
   ]
  },
  {
   "cell_type": "markdown",
   "id": "54a8ac56-e41d-4055-a0f4-b622695781cb",
   "metadata": {},
   "source": [
    "> Note: make sure your are allowed to access this workspace with your credentials by logging into it through the browser first."
   ]
  },
  {
   "cell_type": "markdown",
   "id": "99e215d6-c675-4831-a946-65112ad098c5",
   "metadata": {},
   "source": [
    "To find the guideline ID, one way is to log on to the workspace, perform a manual BP check on a diagram with the mouse, and inspect the payload of the 'mgeditorchecker' HTTP request. The guideline ID can be found in the payload tab."
   ]
  },
  {
   "cell_type": "markdown",
   "id": "da875cb6-a09d-4f5c-9875-590926113f37",
   "metadata": {},
   "source": [
    "Here is an example of a guideline ID used in this code:"
   ]
  },
  {
   "cell_type": "code",
   "execution_count": 4,
   "id": "99e48850-c7dd-4a8f-9022-23e90a772edb",
   "metadata": {},
   "outputs": [],
   "source": [
    "guideline_id = '4551c2229baa4c79a151b5a0cc1010d2'"
   ]
  },
  {
   "cell_type": "markdown",
   "id": "a1ee11b1-d1ed-42be-96b2-5e3e64cf09e7",
   "metadata": {},
   "source": [
    "The following code extracts the JSON data for the first model in the list, runs the syntax and BP checks through their respective API endpoints, and shows us the result."
   ]
  },
  {
   "cell_type": "code",
   "execution_count": 5,
   "id": "5886df9d-948a-4a47-af28-cdb0ff495ed1",
   "metadata": {},
   "outputs": [
    {
     "name": "stdout",
     "output_type": "stream",
     "text": [
      "Syntax errors: {\"errors\": {\"sid-C744BE2D-16E8-4E01-9AFD-C3231949A6F6\": [\"BPMN_MESSAGE_FLOW_NOT_ALLOWED\"]}, \"warnings\": {}}\n",
      "BP violations count: {\"errors\": 4, \"warnings\": 52, \"info\": 61}\n"
     ]
    }
   ],
   "source": [
    "auth_data = SignavioAuthenticator.authenticate()                  \n",
    "model_id = df.index.unique()[0]\n",
    "model_data = df.loc[model_id]\n",
    "name = model_data['name']\n",
    "model_json = model_data['model_json']\n",
    "syntax_errors = syntax_checker(model_json, auth_data)\n",
    "violations_count = bp_conventions_checker(name, model_id, guideline_id, model_json, auth_data)\n",
    "print(f\"Syntax errors: {syntax_errors}\")\n",
    "print(f\"BP violations count: {violations_count}\")"
   ]
  }
 ],
 "metadata": {
  "kernelspec": {
   "display_name": "sapsam_kernel",
   "language": "python",
   "name": "sapsam_kernel"
  },
  "language_info": {
   "codemirror_mode": {
    "name": "ipython",
    "version": 3
   },
   "file_extension": ".py",
   "mimetype": "text/x-python",
   "name": "python",
   "nbconvert_exporter": "python",
   "pygments_lexer": "ipython3",
   "version": "3.11.7"
  }
 },
 "nbformat": 4,
 "nbformat_minor": 5
}
