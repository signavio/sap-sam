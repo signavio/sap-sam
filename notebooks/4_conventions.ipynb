{
 "cells": [
  {
   "cell_type": "code",
   "execution_count": 1,
   "id": "b8f3c8e6-aaaf-49d4-a292-cc6375a0bcad",
   "metadata": {
    "scrolled": true
   },
   "outputs": [],
   "source": [
    "%reload_ext autoreload\n",
    "%autoreload\n",
    "import sys\n",
    "sys.path.append(\"../src\")"
   ]
  },
  {
   "cell_type": "code",
   "execution_count": 2,
   "id": "57208e57-d575-4651-a156-de5c5cce5289",
   "metadata": {},
   "outputs": [],
   "source": [
    "import os\n",
    "import pandas as pd\n",
    "import json\n",
    "import csv\n",
    "from tqdm import tqdm\n",
    "\n",
    "from sapsam import parser, constants\n",
    "from sapsam.SignavioConventionsChecker import bp_conventions_checker, syntax_checker"
   ]
  },
  {
   "cell_type": "markdown",
   "id": "e72bff47-185d-4b2d-b64c-7bd0d0d3d028",
   "metadata": {},
   "source": [
    "# Read data"
   ]
  },
  {
   "cell_type": "markdown",
   "id": "f1fd1d6d-0929-48b9-9486-61d5a883bae5",
   "metadata": {},
   "source": [
    "In order to create our CSV file, let's first read in the data of all models in the dataset."
   ]
  },
  {
   "cell_type": "code",
   "execution_count": 3,
   "id": "92da838f-4077-4f71-8c46-e2b4c14f2464",
   "metadata": {},
   "outputs": [],
   "source": [
    "if os.path.exists(constants.DATA_CONVENTIONS / 'conventions.csv'):\n",
    "    pass\n",
    "else:\n",
    "    df = parser.parse_model()\n",
    "    display(df.head())"
   ]
  },
  {
   "cell_type": "markdown",
   "id": "cfad1b6b-6dde-4932-8403-6229e40b2afa",
   "metadata": {},
   "source": [
    "# Creating CSV file"
   ]
  },
  {
   "cell_type": "markdown",
   "id": "7957a3c8-f88b-43f5-98a4-2a057a492e63",
   "metadata": {},
   "source": [
    "To perform the API request for Best Practices (BP) conventions, we need the guideline ID of any workspace. Make sure your are allowed to access this workspace with your credentials."
   ]
  },
  {
   "cell_type": "markdown",
   "id": "99e215d6-c675-4831-a946-65112ad098c5",
   "metadata": {},
   "source": [
    "To find the guideline ID, one way is to log on to the workspace, perform a manual BP check on a diagram with the mouse, and inspect the payload of the 'mgeditorchecker' HTTP request. The guideline ID can be found in the payload."
   ]
  },
  {
   "cell_type": "code",
   "execution_count": 4,
   "id": "99e48850-c7dd-4a8f-9022-23e90a772edb",
   "metadata": {},
   "outputs": [],
   "source": [
    "guideline_id = '4551c2229baa4c79a151b5a0cc1010d2'"
   ]
  },
  {
   "cell_type": "markdown",
   "id": "a1ee11b1-d1ed-42be-96b2-5e3e64cf09e7",
   "metadata": {},
   "source": [
    "The following iteration extracts the JSON data of each model, runs the syntax and BP checks through their respective API endpoints, and appends the result to `conventions.csv` for further processing.\n",
    "> Note: currently the Signavio API allows 50 API calls/minute (25 models will be appended in 1 min). "
   ]
  },
  {
   "cell_type": "code",
   "execution_count": 5,
   "id": "5886df9d-948a-4a47-af28-cdb0ff495ed1",
   "metadata": {},
   "outputs": [],
   "source": [
    "if os.path.exists(constants.DATA_CONVENTIONS / 'conventions.csv'):\n",
    "    pass\n",
    "else:\n",
    "    os.mkdir(constants.DATA_CONVENTIONS)\n",
    "    df = df[df['namespace'] == 'http://b3mn.org/stencilset/bpmn2.0#']\n",
    "    \n",
    "    with open(constants.DATA_CONVENTIONS / 'conventions.csv', mode='a', newline='') as file:\n",
    "        writer = csv.DictWriter(file, fieldnames=['Model ID', 'Name', 'Syntax Errors', 'BP Violations Count'])\n",
    "        if file.tell() == 0:\n",
    "            writer.writeheader()\n",
    "        print('Running conventions...')\n",
    "                                \n",
    "        for model_id in tqdm(df.index.unique()):\n",
    "            model_data = df.loc[model_id]\n",
    "            name = model_data['name']\n",
    "            model_json = model_data['model_json']\n",
    "            syntax_errors = syntax_checker(model_json)\n",
    "            violations_count = bp_conventions_checker(name, model_id, guideline_id, model_json)\n",
    "            writer.writerow({'Model ID': model_id, 'Name': name, 'Syntax Errors': syntax_errors, 'BP Violations Count': violations_count})"
   ]
  },
  {
   "cell_type": "markdown",
   "id": "55309c4d-c98e-4b27-8de2-8276417ab136",
   "metadata": {},
   "source": [
    "# Data analysis"
   ]
  },
  {
   "cell_type": "markdown",
   "id": "e5554287-f06e-4d6d-9644-4b347ff6374f",
   "metadata": {},
   "source": [
    "Now that we have our file, let's parse and inspect the data."
   ]
  },
  {
   "cell_type": "code",
   "execution_count": null,
   "id": "742f56eb-8efd-41c8-a086-b957c1cabec9",
   "metadata": {},
   "outputs": [],
   "source": [
    "df_conv = parser.parse_conventions()\n",
    "df_conv.head()"
   ]
  },
  {
   "cell_type": "markdown",
   "id": "0078aa4f-790d-4af8-9d05-c2b14570f4a5",
   "metadata": {},
   "source": [
    "Let's see how many models have either syntax or BP errors in them."
   ]
  },
  {
   "cell_type": "code",
   "execution_count": 7,
   "id": "4a142fd9-870a-40e9-9c54-b7ce325d6f0a",
   "metadata": {},
   "outputs": [],
   "source": [
    "def has_error(json_str):\n",
    "    json_data = json.loads(json_str)\n",
    "    return bool(json_data.get('errors'))"
   ]
  },
  {
   "cell_type": "code",
   "execution_count": 8,
   "id": "890ec854-953e-4b5f-8a23-08b2eec9f6bb",
   "metadata": {},
   "outputs": [
    {
     "name": "stdout",
     "output_type": "stream",
     "text": [
      "Number of models with at least one syntax error: 0\n",
      "Number of models with at least one BP error: 1\n"
     ]
    }
   ],
   "source": [
    "syntax_error_count = df_conv['Syntax Errors'].apply(has_error).sum()\n",
    "bp_error_count = df_conv['BP Violations Count'].apply(has_error).sum()\n",
    "print(f\"Number of models with at least one syntax error: {syntax_error_count}\")\n",
    "print(f\"Number of models with at least one BP error: {bp_error_count}\")"
   ]
  }
 ],
 "metadata": {
  "kernelspec": {
   "display_name": "sapsam_kernel",
   "language": "python",
   "name": "sapsam_kernel"
  },
  "language_info": {
   "codemirror_mode": {
    "name": "ipython",
    "version": 3
   },
   "file_extension": ".py",
   "mimetype": "text/x-python",
   "name": "python",
   "nbconvert_exporter": "python",
   "pygments_lexer": "ipython3",
   "version": "3.11.7"
  }
 },
 "nbformat": 4,
 "nbformat_minor": 5
}
