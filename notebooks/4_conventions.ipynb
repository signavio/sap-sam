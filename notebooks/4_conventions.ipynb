{
 "cells": [
  {
   "cell_type": "code",
   "execution_count": 1,
   "id": "b8f3c8e6-aaaf-49d4-a292-cc6375a0bcad",
   "metadata": {
    "scrolled": true
   },
   "outputs": [],
   "source": [
    "%reload_ext autoreload\n",
    "%autoreload\n",
    "import sys\n",
    "sys.path.append(\"../src\")"
   ]
  },
  {
   "cell_type": "code",
   "execution_count": 2,
   "id": "57208e57-d575-4651-a156-de5c5cce5289",
   "metadata": {},
   "outputs": [],
   "source": [
    "import pandas as pd\n",
    "import numpy as np\n",
    "import toml\n",
    "import os\n",
    "import re\n",
    "import json\n",
    "\n",
    "from IPython.display import JSON\n",
    "from collections import Counter\n",
    "from tqdm import tqdm\n",
    "from pathlib import Path\n",
    "\n",
    "from sapsam import parser, constants, detector\n",
    "from sapsam.SignavioBestPracticesChecker import best_practices_checker\n",
    "\n",
    "pd.set_option('display.max_rows', None, 'display.max_columns', None)"
   ]
  },
  {
   "cell_type": "markdown",
   "id": "e72bff47-185d-4b2d-b64c-7bd0d0d3d028",
   "metadata": {},
   "source": [
    "# Read data"
   ]
  },
  {
   "cell_type": "markdown",
   "id": "f1fd1d6d-0929-48b9-9486-61d5a883bae5",
   "metadata": {},
   "source": [
    "Let's first read in the meta data of all models in the dataset."
   ]
  },
  {
   "cell_type": "code",
   "execution_count": 3,
   "id": "92da838f-4077-4f71-8c46-e2b4c14f2464",
   "metadata": {},
   "outputs": [
    {
     "name": "stderr",
     "output_type": "stream",
     "text": [
      "100%|██████████████████████████████████████████████████████████████████████████████████████████████████████████| 1/1 [00:00<00:00, 921.62it/s]\n"
     ]
    },
    {
     "data": {
      "text/html": [
       "<div>\n",
       "<style scoped>\n",
       "    .dataframe tbody tr th:only-of-type {\n",
       "        vertical-align: middle;\n",
       "    }\n",
       "\n",
       "    .dataframe tbody tr th {\n",
       "        vertical-align: top;\n",
       "    }\n",
       "\n",
       "    .dataframe thead th {\n",
       "        text-align: right;\n",
       "    }\n",
       "</style>\n",
       "<table border=\"1\" class=\"dataframe\">\n",
       "  <thead>\n",
       "    <tr style=\"text-align: right;\">\n",
       "      <th></th>\n",
       "      <th>revision_id</th>\n",
       "      <th>organisation_id</th>\n",
       "      <th>datetime</th>\n",
       "      <th>model_json</th>\n",
       "      <th>description</th>\n",
       "      <th>name</th>\n",
       "      <th>type</th>\n",
       "      <th>namespace</th>\n",
       "    </tr>\n",
       "    <tr>\n",
       "      <th>model_id</th>\n",
       "      <th></th>\n",
       "      <th></th>\n",
       "      <th></th>\n",
       "      <th></th>\n",
       "      <th></th>\n",
       "      <th></th>\n",
       "      <th></th>\n",
       "      <th></th>\n",
       "    </tr>\n",
       "  </thead>\n",
       "  <tbody>\n",
       "    <tr>\n",
       "      <th>c80cf953d4544c408b1d4613c0eaa604</th>\n",
       "      <td>NaN</td>\n",
       "      <td>NaN</td>\n",
       "      <td>2023-12-13 12:31:19.0</td>\n",
       "      <td>{\"resourceId\": \"canvas\", \"formats\": {\"meta-pur...</td>\n",
       "      <td>NaN</td>\n",
       "      <td>MHR-10-20-10 Create/Update Foundation Element</td>\n",
       "      <td>NaN</td>\n",
       "      <td>http://b3mn.org/stencilset/bpmn2.0#</td>\n",
       "    </tr>\n",
       "    <tr>\n",
       "      <th>2ac298d6c4914b528e9c5c2cafc5e2f4</th>\n",
       "      <td>NaN</td>\n",
       "      <td>NaN</td>\n",
       "      <td>2023-12-18 13:59:19.0</td>\n",
       "      <td>{\"resourceId\": \"oryx-canvas123\", \"formats\": {}...</td>\n",
       "      <td>NaN</td>\n",
       "      <td>SFM Process flow_Page_CheckForExpiredTSM</td>\n",
       "      <td>NaN</td>\n",
       "      <td>http://b3mn.org/stencilset/bpmn2.0#</td>\n",
       "    </tr>\n",
       "  </tbody>\n",
       "</table>\n",
       "</div>"
      ],
      "text/plain": [
       "                                  revision_id  organisation_id  \\\n",
       "model_id                                                         \n",
       "c80cf953d4544c408b1d4613c0eaa604          NaN              NaN   \n",
       "2ac298d6c4914b528e9c5c2cafc5e2f4          NaN              NaN   \n",
       "\n",
       "                                               datetime  \\\n",
       "model_id                                                  \n",
       "c80cf953d4544c408b1d4613c0eaa604  2023-12-13 12:31:19.0   \n",
       "2ac298d6c4914b528e9c5c2cafc5e2f4  2023-12-18 13:59:19.0   \n",
       "\n",
       "                                                                         model_json  \\\n",
       "model_id                                                                              \n",
       "c80cf953d4544c408b1d4613c0eaa604  {\"resourceId\": \"canvas\", \"formats\": {\"meta-pur...   \n",
       "2ac298d6c4914b528e9c5c2cafc5e2f4  {\"resourceId\": \"oryx-canvas123\", \"formats\": {}...   \n",
       "\n",
       "                                  description  \\\n",
       "model_id                                        \n",
       "c80cf953d4544c408b1d4613c0eaa604          NaN   \n",
       "2ac298d6c4914b528e9c5c2cafc5e2f4          NaN   \n",
       "\n",
       "                                                                           name  \\\n",
       "model_id                                                                          \n",
       "c80cf953d4544c408b1d4613c0eaa604  MHR-10-20-10 Create/Update Foundation Element   \n",
       "2ac298d6c4914b528e9c5c2cafc5e2f4       SFM Process flow_Page_CheckForExpiredTSM   \n",
       "\n",
       "                                 type                            namespace  \n",
       "model_id                                                                    \n",
       "c80cf953d4544c408b1d4613c0eaa604  NaN  http://b3mn.org/stencilset/bpmn2.0#  \n",
       "2ac298d6c4914b528e9c5c2cafc5e2f4  NaN  http://b3mn.org/stencilset/bpmn2.0#  "
      ]
     },
     "execution_count": 3,
     "metadata": {},
     "output_type": "execute_result"
    }
   ],
   "source": [
    "df_meta = parser.parse_model()\n",
    "df_meta.head()"
   ]
  },
  {
   "cell_type": "markdown",
   "id": "cfad1b6b-6dde-4932-8403-6229e40b2afa",
   "metadata": {},
   "source": [
    "# Convention checking"
   ]
  },
  {
   "cell_type": "code",
   "execution_count": 4,
   "id": "5886df9d-948a-4a47-af28-cdb0ff495ed1",
   "metadata": {},
   "outputs": [
    {
     "name": "stdout",
     "output_type": "stream",
     "text": [
      "{'errors': 0, 'warnings': 13, 'info': 38}\n",
      "{'errors': 0, 'warnings': 13, 'info': 7}\n"
     ]
    }
   ],
   "source": [
    "model_json = df_meta['model_json'].iloc[0]\n",
    "name = df_meta['name'].iloc[0]\n",
    "#print(name)\n",
    "model_id = df_meta.index.get_level_values(0)[0]\n",
    "#print(model_id)\n",
    "guideline_id = '4551c2229baa4c79a151b5a0cc1010d2'\n",
    "#print(model_json)\n",
    "\n",
    "for model_id in df_meta.index.unique():\n",
    "    model_data = df_meta.loc[model_id]\n",
    "    name = model_data['name']\n",
    "    model_json = model_data['model_json']\n",
    "    result = best_practices_checker(name, model_id, guideline_id, model_json)\n",
    "    print(result)"
   ]
  }
 ],
 "metadata": {
  "kernelspec": {
   "display_name": "sapsam_kernel",
   "language": "python",
   "name": "sapsam_kernel"
  },
  "language_info": {
   "codemirror_mode": {
    "name": "ipython",
    "version": 3
   },
   "file_extension": ".py",
   "mimetype": "text/x-python",
   "name": "python",
   "nbconvert_exporter": "python",
   "pygments_lexer": "ipython3",
   "version": "3.11.7"
  }
 },
 "nbformat": 4,
 "nbformat_minor": 5
}
