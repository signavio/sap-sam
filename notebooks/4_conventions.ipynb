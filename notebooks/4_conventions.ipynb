{
 "cells": [
  {
   "cell_type": "code",
   "execution_count": null,
   "id": "b8f3c8e6-aaaf-49d4-a292-cc6375a0bcad",
   "metadata": {
    "scrolled": true
   },
   "outputs": [],
   "source": [
    "%reload_ext autoreload\n",
    "%autoreload\n",
    "import sys\n",
    "sys.path.append(\"../src\")"
   ]
  },
  {
   "cell_type": "code",
   "execution_count": null,
   "id": "57208e57-d575-4651-a156-de5c5cce5289",
   "metadata": {},
   "outputs": [],
   "source": [
    "import pandas as pd\n",
    "import json\n",
    "import csv\n",
    "from tqdm import tqdm\n",
    "\n",
    "from sapsam import parser, constants\n",
    "from sapsam.SignavioConventionsChecker import bp_conventions_checker, syntax_checker"
   ]
  },
  {
   "cell_type": "markdown",
   "id": "e72bff47-185d-4b2d-b64c-7bd0d0d3d028",
   "metadata": {},
   "source": [
    "# Read data"
   ]
  },
  {
   "cell_type": "markdown",
   "id": "f1fd1d6d-0929-48b9-9486-61d5a883bae5",
   "metadata": {},
   "source": [
    "Let's first read in the meta data of all models in the dataset."
   ]
  },
  {
   "cell_type": "code",
   "execution_count": null,
   "id": "92da838f-4077-4f71-8c46-e2b4c14f2464",
   "metadata": {},
   "outputs": [],
   "source": [
    "df_meta = parser.parse_model()\n",
    "df_meta.head()"
   ]
  },
  {
   "cell_type": "markdown",
   "id": "cfad1b6b-6dde-4932-8403-6229e40b2afa",
   "metadata": {},
   "source": [
    "# Checking conventions"
   ]
  },
  {
   "cell_type": "code",
   "execution_count": null,
   "id": "403900c5-9cda-4d01-a6c6-7e650512db0c",
   "metadata": {},
   "outputs": [],
   "source": [
    "df_meta = df_meta[df_meta['namespace'] == 'http://b3mn.org/stencilset/bpmn2.0#']"
   ]
  },
  {
   "cell_type": "code",
   "execution_count": null,
   "id": "99e48850-c7dd-4a8f-9022-23e90a772edb",
   "metadata": {},
   "outputs": [],
   "source": [
    "guideline_id = '4551c2229baa4c79a151b5a0cc1010d2'"
   ]
  },
  {
   "cell_type": "code",
   "execution_count": null,
   "id": "5886df9d-948a-4a47-af28-cdb0ff495ed1",
   "metadata": {},
   "outputs": [],
   "source": [
    "with open(constants.DATA_RAW / 'conventions.csv', mode='a', newline='') as file:\n",
    "    writer = csv.DictWriter(file, fieldnames=['Model ID', 'Name', 'Syntax Errors', 'BP Violations Count'])\n",
    "    if file.tell() == 0:\n",
    "        writer.writeheader()\n",
    "    print('Running conventions...')\n",
    "                            \n",
    "    for model_id in tqdm(df_meta.index.unique()):\n",
    "        model_data = df_meta.loc[model_id]\n",
    "        name = model_data['name']\n",
    "        model_json = model_data['model_json']\n",
    "        syntax_errors = syntax_checker(model_json)\n",
    "        violations_count = bp_conventions_checker(name, model_id, guideline_id, model_json)\n",
    "        writer.writerow({'Model ID': model_id, 'Name': name, 'Syntax Errors': syntax_errors, 'BP Violations Count': violations_count})"
   ]
  },
  {
   "cell_type": "markdown",
   "id": "55309c4d-c98e-4b27-8de2-8276417ab136",
   "metadata": {},
   "source": [
    "# Data analysis"
   ]
  }
 ],
 "metadata": {
  "kernelspec": {
   "display_name": "sapsam_kernel",
   "language": "python",
   "name": "sapsam_kernel"
  },
  "language_info": {
   "codemirror_mode": {
    "name": "ipython",
    "version": 3
   },
   "file_extension": ".py",
   "mimetype": "text/x-python",
   "name": "python",
   "nbconvert_exporter": "python",
   "pygments_lexer": "ipython3",
   "version": "3.11.7"
  }
 },
 "nbformat": 4,
 "nbformat_minor": 5
}
