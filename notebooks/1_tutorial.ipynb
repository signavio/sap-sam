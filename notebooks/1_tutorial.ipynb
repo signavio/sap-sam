{
 "cells": [
  {
   "cell_type": "code",
   "execution_count": null,
   "id": "54ff4383",
   "metadata": {},
   "outputs": [],
   "source": [
    "import sys\n",
    "sys.path.append(\"../src\")"
   ]
  },
  {
   "cell_type": "code",
   "execution_count": 1,
   "id": "c10457cd-f66d-4f88-99b0-2a941faf789e",
   "metadata": {},
   "outputs": [
    {
     "name": "stderr",
     "output_type": "stream",
     "text": [
      "2022-08-18 16:02:46,999 INFO - Note: NumExpr detected 40 cores but \"NUMEXPR_MAX_THREADS\" not set, so enforcing safe limit of 8.\n",
      "2022-08-18 16:02:47,000 INFO - NumExpr defaulting to 8 threads.\n"
     ]
    }
   ],
   "source": [
    "import logging, json\n",
    "logging.basicConfig(format=\"%(asctime)s %(levelname)s - %(message)s\", level=logging.INFO)\n",
    "\n",
    "import pandas as pd\n",
    "pd.set_option(\"display.min_rows\", 4)\n",
    "import numpy as np\n",
    "import seaborn as sns\n",
    "\n",
    "import matplotlib.pyplot as plt\n",
    "%matplotlib inline\n",
    "\n",
    "%reload_ext autoreload\n",
    "%autoreload 2\n",
    "\n",
    "from sapsam import parser, constants"
   ]
  },
  {
   "cell_type": "markdown",
   "id": "44773723-f6c2-4062-936e-1f5be3425396",
   "metadata": {},
   "source": [
    "# CSV Format"
   ]
  },
  {
   "cell_type": "markdown",
   "id": "bf25c30e-aed4-43db-a051-a533b8cc750d",
   "metadata": {},
   "source": [
    "The dataset is provided as a set of CSVs."
   ]
  },
  {
   "cell_type": "code",
   "execution_count": 2,
   "id": "ac2139b7-fb79-4a68-af37-66601e1f08ba",
   "metadata": {
    "tags": []
   },
   "outputs": [
    {
     "name": "stderr",
     "output_type": "stream",
     "text": [
      "2022-08-18 16:02:48,708 INFO - Found 103 csvs\n"
     ]
    }
   ],
   "source": [
    "csv_paths = parser.get_csv_paths()"
   ]
  },
  {
   "cell_type": "markdown",
   "id": "ead65180-1522-42fa-9e4d-16dcfba90900",
   "metadata": {},
   "source": [
    "Let's parse the first rows of the first CSV."
   ]
  },
  {
   "cell_type": "code",
   "execution_count": 3,
   "id": "57457cd1-b08f-4300-926e-501cf0b6940a",
   "metadata": {},
   "outputs": [
    {
     "name": "stdout",
     "output_type": "stream",
     "text": [
      "0.csv\n"
     ]
    },
    {
     "data": {
      "text/html": [
       "<div>\n",
       "<style scoped>\n",
       "    .dataframe tbody tr th:only-of-type {\n",
       "        vertical-align: middle;\n",
       "    }\n",
       "\n",
       "    .dataframe tbody tr th {\n",
       "        vertical-align: top;\n",
       "    }\n",
       "\n",
       "    .dataframe thead th {\n",
       "        text-align: right;\n",
       "    }\n",
       "</style>\n",
       "<table border=\"1\" class=\"dataframe\">\n",
       "  <thead>\n",
       "    <tr style=\"text-align: right;\">\n",
       "      <th></th>\n",
       "      <th>Revision ID</th>\n",
       "      <th>Model ID</th>\n",
       "      <th>Organization ID</th>\n",
       "      <th>Datetime</th>\n",
       "      <th>Model JSON</th>\n",
       "      <th>Description</th>\n",
       "      <th>Name</th>\n",
       "      <th>Type</th>\n",
       "      <th>Namespace</th>\n",
       "    </tr>\n",
       "  </thead>\n",
       "  <tbody>\n",
       "    <tr>\n",
       "      <th>0</th>\n",
       "      <td>5ed1535c95a342f4a414dd8c9b1b7df8</td>\n",
       "      <td>1ba74449e9354d0c9d4798b4a6e915d0</td>\n",
       "      <td>6c96d0b6e5e14eeaa9848f953a94e5f8</td>\n",
       "      <td>2019-03-19 11:36:50</td>\n",
       "      <td>{\"resourceId\": \"canvas\", \"properties\": {\"name\"...</td>\n",
       "      <td>NaN</td>\n",
       "      <td>Pivo</td>\n",
       "      <td>NaN</td>\n",
       "      <td>http://b3mn.org/stencilset/bpmn2.0#</td>\n",
       "    </tr>\n",
       "    <tr>\n",
       "      <th>1</th>\n",
       "      <td>301bfb5af53c431a830a6e435de6a590</td>\n",
       "      <td>1ba744cbcafb46c2a52482e36498a9bf</td>\n",
       "      <td>8af3fc1bb4b74e7c8c4089e4921d9056</td>\n",
       "      <td>2020-03-23 17:26:03</td>\n",
       "      <td>{\"resourceId\": \"canvas\", \"formats\": {\"document...</td>\n",
       "      <td>NaN</td>\n",
       "      <td>Receipt of Application</td>\n",
       "      <td>NaN</td>\n",
       "      <td>http://b3mn.org/stencilset/bpmn2.0#</td>\n",
       "    </tr>\n",
       "    <tr>\n",
       "      <th>2</th>\n",
       "      <td>ac3baa3e59ca476396b4affa8e900c6f</td>\n",
       "      <td>1ba7587b3191422fb03a0e9ba92cebff</td>\n",
       "      <td>36fbc1ee23334e1ab987b07d2108eef2</td>\n",
       "      <td>2017-04-19 06:19:36</td>\n",
       "      <td>{\"resourceId\": \"canvas\", \"properties\": {\"name\"...</td>\n",
       "      <td>NaN</td>\n",
       "      <td>710 BPMN Conference room</td>\n",
       "      <td>NaN</td>\n",
       "      <td>http://b3mn.org/stencilset/bpmn2.0#</td>\n",
       "    </tr>\n",
       "    <tr>\n",
       "      <th>3</th>\n",
       "      <td>da11513a93224fbbb2c34ef9c5cfcaa9</td>\n",
       "      <td>1ba758f87e744ff0bcb3119887cac8cc</td>\n",
       "      <td>574093f96e5e4ff09a8b1f24eeb70284</td>\n",
       "      <td>2021-02-21 13:14:32</td>\n",
       "      <td>{\"resourceId\": \"canvas\", \"properties\": {\"name\"...</td>\n",
       "      <td>NaN</td>\n",
       "      <td>ECU application p</td>\n",
       "      <td>NaN</td>\n",
       "      <td>http://b3mn.org/stencilset/bpmn2.0#</td>\n",
       "    </tr>\n",
       "    <tr>\n",
       "      <th>4</th>\n",
       "      <td>70d06e82d8c344edab8b041f8b03161a</td>\n",
       "      <td>1ba77121c3be44d6bd0b354727f9707b</td>\n",
       "      <td>ff66cd6b779c44bba88ade8952d7e626</td>\n",
       "      <td>2020-06-30 07:12:48</td>\n",
       "      <td>{\"resourceId\": \"canvas\", \"properties\": {\"name\"...</td>\n",
       "      <td>NaN</td>\n",
       "      <td>2.9.1 Elektronischer Auftrag erfassen</td>\n",
       "      <td>NaN</td>\n",
       "      <td>http://b3mn.org/stencilset/bpmn2.0#</td>\n",
       "    </tr>\n",
       "  </tbody>\n",
       "</table>\n",
       "</div>"
      ],
      "text/plain": [
       "                        Revision ID                          Model ID  \\\n",
       "0  5ed1535c95a342f4a414dd8c9b1b7df8  1ba74449e9354d0c9d4798b4a6e915d0   \n",
       "1  301bfb5af53c431a830a6e435de6a590  1ba744cbcafb46c2a52482e36498a9bf   \n",
       "2  ac3baa3e59ca476396b4affa8e900c6f  1ba7587b3191422fb03a0e9ba92cebff   \n",
       "3  da11513a93224fbbb2c34ef9c5cfcaa9  1ba758f87e744ff0bcb3119887cac8cc   \n",
       "4  70d06e82d8c344edab8b041f8b03161a  1ba77121c3be44d6bd0b354727f9707b   \n",
       "\n",
       "                    Organization ID             Datetime  \\\n",
       "0  6c96d0b6e5e14eeaa9848f953a94e5f8  2019-03-19 11:36:50   \n",
       "1  8af3fc1bb4b74e7c8c4089e4921d9056  2020-03-23 17:26:03   \n",
       "2  36fbc1ee23334e1ab987b07d2108eef2  2017-04-19 06:19:36   \n",
       "3  574093f96e5e4ff09a8b1f24eeb70284  2021-02-21 13:14:32   \n",
       "4  ff66cd6b779c44bba88ade8952d7e626  2020-06-30 07:12:48   \n",
       "\n",
       "                                          Model JSON  Description  \\\n",
       "0  {\"resourceId\": \"canvas\", \"properties\": {\"name\"...          NaN   \n",
       "1  {\"resourceId\": \"canvas\", \"formats\": {\"document...          NaN   \n",
       "2  {\"resourceId\": \"canvas\", \"properties\": {\"name\"...          NaN   \n",
       "3  {\"resourceId\": \"canvas\", \"properties\": {\"name\"...          NaN   \n",
       "4  {\"resourceId\": \"canvas\", \"properties\": {\"name\"...          NaN   \n",
       "\n",
       "                                     Name  Type  \\\n",
       "0                                    Pivo   NaN   \n",
       "1                  Receipt of Application   NaN   \n",
       "2                710 BPMN Conference room   NaN   \n",
       "3                       ECU application p   NaN   \n",
       "4  2.9.1 Elektronischer Auftrag erfassen    NaN   \n",
       "\n",
       "                             Namespace  \n",
       "0  http://b3mn.org/stencilset/bpmn2.0#  \n",
       "1  http://b3mn.org/stencilset/bpmn2.0#  \n",
       "2  http://b3mn.org/stencilset/bpmn2.0#  \n",
       "3  http://b3mn.org/stencilset/bpmn2.0#  \n",
       "4  http://b3mn.org/stencilset/bpmn2.0#  "
      ]
     },
     "execution_count": 3,
     "metadata": {},
     "output_type": "execute_result"
    }
   ],
   "source": [
    "csv_path = csv_paths[0]\n",
    "print(csv_path.name)\n",
    "df_raw = pd.read_csv(csv_path, nrows=5)\n",
    "df_raw"
   ]
  },
  {
   "cell_type": "markdown",
   "id": "a0e01e73-9186-4f39-8132-82136b45f5e5",
   "metadata": {},
   "source": [
    "You can find a quick description of the columns in the `README.me` file of this repository."
   ]
  },
  {
   "cell_type": "markdown",
   "id": "1816c1f6-6281-4cee-930f-10921797ae15",
   "metadata": {},
   "source": [
    "Let's look at the model json format in more detail below."
   ]
  },
  {
   "cell_type": "code",
   "execution_count": 4,
   "id": "a1aa64fb-2569-41bd-bd9f-d580a7ddbfb3",
   "metadata": {},
   "outputs": [
    {
     "name": "stdout",
     "output_type": "stream",
     "text": [
      "dict_keys(['resourceId', 'properties', 'stencil', 'childShapes', 'bounds', 'stencilset', 'ssextensions', 'glossaryLinkRevisions'])\n"
     ]
    }
   ],
   "source": [
    "model_json = json.loads(df_raw[\"Model JSON\"][2])\n",
    "print(model_json.keys())"
   ]
  },
  {
   "cell_type": "markdown",
   "id": "eb9952d7-7b11-4713-9eb2-25819bd7fa47",
   "metadata": {},
   "source": [
    "The root element of the model json represents the model itself. "
   ]
  },
  {
   "cell_type": "code",
   "execution_count": 5,
   "id": "e471e590-f420-430e-a992-2e5680c8d255",
   "metadata": {},
   "outputs": [
    {
     "name": "stdout",
     "output_type": "stream",
     "text": [
      "Root id: canvas\n",
      "Root type: BPMNDiagram\n"
     ]
    }
   ],
   "source": [
    "print(\"Root id:\", model_json[\"resourceId\"])\n",
    "print(\"Root type:\", model_json[\"stencil\"][\"id\"])"
   ]
  },
  {
   "cell_type": "markdown",
   "id": "38c15fa9-4f59-43fb-9431-f5068529ed70",
   "metadata": {},
   "source": [
    "The most important part is the childShapes list. The childShapes is a recursive structure that can contain additional childShapes. For example, the elements of a pool are typically tracked as childShapes of the corresponding pool. "
   ]
  },
  {
   "cell_type": "code",
   "execution_count": 6,
   "id": "f1f74fa8-5dab-44ad-bb33-21106dd95353",
   "metadata": {},
   "outputs": [
    {
     "name": "stdout",
     "output_type": "stream",
     "text": [
      "BPMNDiagram children category count: {'Pool': 1, 'SequenceFlow': 17}\n"
     ]
    }
   ],
   "source": [
    "from collections import defaultdict\n",
    "from typing import Dict\n",
    "\n",
    "def get_child_elements_by_category(element) -> Dict:\n",
    "    cat_to_elements = defaultdict(list)\n",
    "    for child in element[\"childShapes\"]:\n",
    "        category = child[\"stencil\"][\"id\"]\n",
    "        cat_to_elements[category].append(child)\n",
    "    \n",
    "    cat = element[\"stencil\"][\"id\"]\n",
    "    print(\"{} children category count: {}\".format(cat, {k: len(v) for k,v in cat_to_elements.items()}))\n",
    "    return cat_to_elements\n",
    "\n",
    "root_child_dict = get_child_elements_by_category(model_json)"
   ]
  },
  {
   "cell_type": "markdown",
   "id": "da3ebbb2-ccb5-4edc-be93-8aba5fc5c4ad",
   "metadata": {},
   "source": [
    "Let's check out the first pool:"
   ]
  },
  {
   "cell_type": "code",
   "execution_count": 7,
   "id": "e32b84c5-d661-4dc9-90f0-74cd1d618498",
   "metadata": {},
   "outputs": [
    {
     "name": "stdout",
     "output_type": "stream",
     "text": [
      "Pool children category count: {'Lane': 3}\n"
     ]
    }
   ],
   "source": [
    "pool = root_child_dict[\"Pool\"][0]\n",
    "pool_child_dict = get_child_elements_by_category(pool)"
   ]
  },
  {
   "cell_type": "markdown",
   "id": "3a8014ae-f936-40a6-abab-41dd75e46518",
   "metadata": {},
   "source": [
    "Now let's see which children each lane has:"
   ]
  },
  {
   "cell_type": "code",
   "execution_count": 8,
   "id": "bc639a0c-0c44-4f6e-a95d-328104f0ec20",
   "metadata": {},
   "outputs": [
    {
     "name": "stdout",
     "output_type": "stream",
     "text": [
      "Lane children category count: {'Task': 2}\n",
      "Lane children category count: {'Task': 8, 'Exclusive_Databased_Gateway': 2, 'EndNoneEvent': 1}\n",
      "Lane children category count: {'StartNoneEvent': 1, 'Task': 2, 'EndNoneEvent': 1}\n"
     ]
    }
   ],
   "source": [
    "for lane in pool_child_dict[\"Lane\"]:\n",
    "    get_child_elements_by_category(lane)"
   ]
  },
  {
   "cell_type": "markdown",
   "id": "afe221ed-b537-452d-96e6-7e38f38f1689",
   "metadata": {},
   "source": [
    "Let's look at the properties of the first lane element in more detail:"
   ]
  },
  {
   "cell_type": "code",
   "execution_count": 9,
   "id": "00df2010-20ad-4fe5-80de-debc5ba8778a",
   "metadata": {},
   "outputs": [
    {
     "data": {
      "text/plain": [
       "{'resourceId': 'sid-652AF256-318D-40D9-9E1D-93877996929C',\n",
       " 'properties': {'processid': '',\n",
       "  'name': 'Inventory and Food Required',\n",
       "  'documentation': '',\n",
       "  'auditing': '',\n",
       "  'monitoring': '',\n",
       "  'flat': '',\n",
       "  'categories': '',\n",
       "  'startquantity': 1,\n",
       "  'completionquantity': 1,\n",
       "  'isforcompensation': False,\n",
       "  'assignments': '',\n",
       "  'callacitivity': False,\n",
       "  'tasktype': 'None',\n",
       "  'implementation': 'webService',\n",
       "  'resources': '',\n",
       "  'messageref': '',\n",
       "  'operationref': '',\n",
       "  'instantiate': False,\n",
       "  'script': '',\n",
       "  'scriptformat': '',\n",
       "  'bgcolor': '#ffffcc',\n",
       "  'looptype': 'None',\n",
       "  'testbefore': False,\n",
       "  'loopcondition': '',\n",
       "  'loopmaximum': '',\n",
       "  'loopcardinality': '',\n",
       "  'loopdatainput': '',\n",
       "  'loopdataoutput': '',\n",
       "  'inputdataitem': '',\n",
       "  'outputdataitem': '',\n",
       "  'behavior': 'all',\n",
       "  'complexbehaviordefinition': '',\n",
       "  'completioncondition': '',\n",
       "  'onebehavioreventref:': 'signal',\n",
       "  'nonebehavioreventref': 'signal',\n",
       "  'properties': '',\n",
       "  'properties2': '',\n",
       "  'datainputs': '',\n",
       "  'dataoutputs': '',\n",
       "  'inputsets': '',\n",
       "  'outputsets': '',\n",
       "  'datainputset': '',\n",
       "  'dataoutputset': '',\n",
       "  'datainputassociations': '',\n",
       "  'dataoutputassociations': '',\n",
       "  'operationname': '',\n",
       "  'inmessagename': '',\n",
       "  'inmsgitemkind': 'Information',\n",
       "  'inmsgstructure': '',\n",
       "  'inmsgimport': '',\n",
       "  'inmsgiscollection': False,\n",
       "  'outmessagename': '',\n",
       "  'outmsgitemkind': 'Information',\n",
       "  'outmsgstructure': '',\n",
       "  'outmsgimport': '',\n",
       "  'outmsgiscollection': False,\n",
       "  'bordercolor': '#000000',\n",
       "  'calledelement': '',\n",
       "  'time': '',\n",
       "  'costs': '',\n",
       "  'costcenter': '',\n",
       "  'applyincalc': True,\n",
       "  'decision': '',\n",
       "  'question': '',\n",
       "  'anwers': '',\n",
       "  'entry': '',\n",
       "  'stakeholder': 'Process Owner',\n",
       "  'riskandcontrols': ''},\n",
       " 'stencil': {'id': 'Task'},\n",
       " 'childShapes': [],\n",
       " 'outgoing': [{'resourceId': 'sid-D8501DB4-4B74-42B6-A91B-1E8F3862FACF'}],\n",
       " 'bounds': {'lowerRight': {'x': 714, 'y': 116},\n",
       "  'upperLeft': {'x': 614, 'y': 36}},\n",
       " 'dockers': []}"
      ]
     },
     "execution_count": 9,
     "metadata": {},
     "output_type": "execute_result"
    }
   ],
   "source": [
    "lane = pool_child_dict[\"Lane\"][0]\n",
    "shape = lane[\"childShapes\"][0]\n",
    "shape"
   ]
  },
  {
   "cell_type": "markdown",
   "id": "bb97da2c-cba8-474e-a6e6-e203ead80a91",
   "metadata": {},
   "source": [
    "As can be seen, each shape has a lot of attributes, most of which are irrelevant for common use cases. Let us summarize the most important attributes:"
   ]
  },
  {
   "cell_type": "code",
   "execution_count": 10,
   "id": "8e42ac8c-bc51-4d87-84e8-3bcf6b9a69ce",
   "metadata": {},
   "outputs": [
    {
     "name": "stdout",
     "output_type": "stream",
     "text": [
      "Shape id: sid-652AF256-318D-40D9-9E1D-93877996929C\n",
      "Shape type: Task\n",
      "Label: Inventory and Food Required\n",
      "Bounding box: {'lowerRight': {'x': 714, 'y': 116}, 'upperLeft': {'x': 614, 'y': 36}}\n",
      "Outgoing: [{'resourceId': 'sid-D8501DB4-4B74-42B6-A91B-1E8F3862FACF'}]\n",
      "Parent element: sid-A7ACCB17-82C8-4314-A762-F46070C31996\n"
     ]
    }
   ],
   "source": [
    "print(\"Shape id:\", shape[\"resourceId\"])\n",
    "print(\"Shape type:\", shape[\"stencil\"][\"id\"])\n",
    "print(\"Label:\", shape[\"properties\"][\"name\"].replace(\"\\n\", \"\\\\n\"))\n",
    "print(\"Bounding box:\", shape[\"bounds\"])\n",
    "print(\"Outgoing:\", shape[\"outgoing\"])\n",
    "print(\"Parent element:\", lane[\"resourceId\"])"
   ]
  },
  {
   "cell_type": "markdown",
   "id": "054d0a4d-e21c-4b41-942a-a1c5aec67f8b",
   "metadata": {},
   "source": [
    "Parsing all the raw CSVs into one DataFrame uses a lot of memory and is rather slow. As the model json contains many attributes that are irrelevant for most uses cases, we provide a parser that only extracts the elements mentioned before, and returns a DataFrame with a row per model element. The parser only considers BPMN models, and can be used as a starting point to also develop parsers for other diagram types.\n",
    "\n",
    "We showcase the parser in the `BPMN Model Elements` section."
   ]
  },
  {
   "cell_type": "markdown",
   "id": "e45a6cf7-9cbb-4f79-bd61-50882bb0b2f3",
   "metadata": {},
   "source": [
    "# Model Metadata"
   ]
  },
  {
   "cell_type": "markdown",
   "id": "2ffa7f3d-85c9-4527-888a-40aea051ef24",
   "metadata": {},
   "source": [
    "Parsing the entire CSV with the \"Model JSON\" attribute consumes a lot of memory and is rather slow. We therefore provide a parser that ignores the \"Model JSON\" field and only parses the remaining model metadata columns. We also lower the column names and convert them to snake_case to make it more convenient to work with them in Pandas."
   ]
  },
  {
   "cell_type": "code",
   "execution_count": 11,
   "id": "1d32cd1a-d678-437d-ba20-d74b75b01ec1",
   "metadata": {},
   "outputs": [
    {
     "name": "stderr",
     "output_type": "stream",
     "text": [
      "2022-08-18 16:02:49,340 INFO - Found 103 csvs\n",
      "2022-08-18 16:02:49,342 INFO - Starting to parse 103 cvs excluding model json\n",
      "100%|███████████████████████████████████████████████████████████████████████████| 103/103 [04:26<00:00,  2.59s/it]\n",
      "2022-08-18 16:07:16,445 INFO - Parsed 1021471 models\n"
     ]
    },
    {
     "data": {
      "text/html": [
       "<div>\n",
       "<style scoped>\n",
       "    .dataframe tbody tr th:only-of-type {\n",
       "        vertical-align: middle;\n",
       "    }\n",
       "\n",
       "    .dataframe tbody tr th {\n",
       "        vertical-align: top;\n",
       "    }\n",
       "\n",
       "    .dataframe thead th {\n",
       "        text-align: right;\n",
       "    }\n",
       "</style>\n",
       "<table border=\"1\" class=\"dataframe\">\n",
       "  <thead>\n",
       "    <tr style=\"text-align: right;\">\n",
       "      <th></th>\n",
       "      <th>revision_id</th>\n",
       "      <th>organization_id</th>\n",
       "      <th>datetime</th>\n",
       "      <th>description</th>\n",
       "      <th>name</th>\n",
       "      <th>type</th>\n",
       "      <th>namespace</th>\n",
       "    </tr>\n",
       "    <tr>\n",
       "      <th>model_id</th>\n",
       "      <th></th>\n",
       "      <th></th>\n",
       "      <th></th>\n",
       "      <th></th>\n",
       "      <th></th>\n",
       "      <th></th>\n",
       "      <th></th>\n",
       "    </tr>\n",
       "  </thead>\n",
       "  <tbody>\n",
       "    <tr>\n",
       "      <th>1ba74449e9354d0c9d4798b4a6e915d0</th>\n",
       "      <td>5ed1535c95a342f4a414dd8c9b1b7df8</td>\n",
       "      <td>6c96d0b6e5e14eeaa9848f953a94e5f8</td>\n",
       "      <td>2019-03-19 11:36:50</td>\n",
       "      <td>NaN</td>\n",
       "      <td>Pivo</td>\n",
       "      <td>NaN</td>\n",
       "      <td>http://b3mn.org/stencilset/bpmn2.0#</td>\n",
       "    </tr>\n",
       "    <tr>\n",
       "      <th>1ba744cbcafb46c2a52482e36498a9bf</th>\n",
       "      <td>301bfb5af53c431a830a6e435de6a590</td>\n",
       "      <td>8af3fc1bb4b74e7c8c4089e4921d9056</td>\n",
       "      <td>2020-03-23 17:26:03</td>\n",
       "      <td>NaN</td>\n",
       "      <td>Receipt of Application</td>\n",
       "      <td>NaN</td>\n",
       "      <td>http://b3mn.org/stencilset/bpmn2.0#</td>\n",
       "    </tr>\n",
       "    <tr>\n",
       "      <th>...</th>\n",
       "      <td>...</td>\n",
       "      <td>...</td>\n",
       "      <td>...</td>\n",
       "      <td>...</td>\n",
       "      <td>...</td>\n",
       "      <td>...</td>\n",
       "      <td>...</td>\n",
       "    </tr>\n",
       "    <tr>\n",
       "      <th>18ca2c45cb824d06ae8573f0afb8813e</th>\n",
       "      <td>ace1037ddbbf4e91b03d60c0b6cf9162</td>\n",
       "      <td>359f2e98c56444b287a7818dc1a531b2</td>\n",
       "      <td>2018-01-13 12:23:47</td>\n",
       "      <td>NaN</td>\n",
       "      <td>2</td>\n",
       "      <td>NaN</td>\n",
       "      <td>http://b3mn.org/stencilset/bpmn2.0#</td>\n",
       "    </tr>\n",
       "    <tr>\n",
       "      <th>18ca2e80f3ff41a3a00dbce414c06506</th>\n",
       "      <td>8811500ae44f45e1befdcbd7b92e86da</td>\n",
       "      <td>096354c3fa3e4ec4a54a1b5297b46bc6</td>\n",
       "      <td>2018-12-01 18:17:11</td>\n",
       "      <td>NaN</td>\n",
       "      <td>Gyártáshoz szükséges cikk lekérdezése</td>\n",
       "      <td>NaN</td>\n",
       "      <td>http://b3mn.org/stencilset/epc#</td>\n",
       "    </tr>\n",
       "  </tbody>\n",
       "</table>\n",
       "<p>1021471 rows × 7 columns</p>\n",
       "</div>"
      ],
      "text/plain": [
       "                                                       revision_id  \\\n",
       "model_id                                                             \n",
       "1ba74449e9354d0c9d4798b4a6e915d0  5ed1535c95a342f4a414dd8c9b1b7df8   \n",
       "1ba744cbcafb46c2a52482e36498a9bf  301bfb5af53c431a830a6e435de6a590   \n",
       "...                                                            ...   \n",
       "18ca2c45cb824d06ae8573f0afb8813e  ace1037ddbbf4e91b03d60c0b6cf9162   \n",
       "18ca2e80f3ff41a3a00dbce414c06506  8811500ae44f45e1befdcbd7b92e86da   \n",
       "\n",
       "                                                   organization_id  \\\n",
       "model_id                                                             \n",
       "1ba74449e9354d0c9d4798b4a6e915d0  6c96d0b6e5e14eeaa9848f953a94e5f8   \n",
       "1ba744cbcafb46c2a52482e36498a9bf  8af3fc1bb4b74e7c8c4089e4921d9056   \n",
       "...                                                            ...   \n",
       "18ca2c45cb824d06ae8573f0afb8813e  359f2e98c56444b287a7818dc1a531b2   \n",
       "18ca2e80f3ff41a3a00dbce414c06506  096354c3fa3e4ec4a54a1b5297b46bc6   \n",
       "\n",
       "                                             datetime description  \\\n",
       "model_id                                                            \n",
       "1ba74449e9354d0c9d4798b4a6e915d0  2019-03-19 11:36:50         NaN   \n",
       "1ba744cbcafb46c2a52482e36498a9bf  2020-03-23 17:26:03         NaN   \n",
       "...                                               ...         ...   \n",
       "18ca2c45cb824d06ae8573f0afb8813e  2018-01-13 12:23:47         NaN   \n",
       "18ca2e80f3ff41a3a00dbce414c06506  2018-12-01 18:17:11         NaN   \n",
       "\n",
       "                                                                   name type  \\\n",
       "model_id                                                                       \n",
       "1ba74449e9354d0c9d4798b4a6e915d0                                   Pivo  NaN   \n",
       "1ba744cbcafb46c2a52482e36498a9bf                 Receipt of Application  NaN   \n",
       "...                                                                 ...  ...   \n",
       "18ca2c45cb824d06ae8573f0afb8813e                                      2  NaN   \n",
       "18ca2e80f3ff41a3a00dbce414c06506  Gyártáshoz szükséges cikk lekérdezése  NaN   \n",
       "\n",
       "                                                            namespace  \n",
       "model_id                                                               \n",
       "1ba74449e9354d0c9d4798b4a6e915d0  http://b3mn.org/stencilset/bpmn2.0#  \n",
       "1ba744cbcafb46c2a52482e36498a9bf  http://b3mn.org/stencilset/bpmn2.0#  \n",
       "...                                                               ...  \n",
       "18ca2c45cb824d06ae8573f0afb8813e  http://b3mn.org/stencilset/bpmn2.0#  \n",
       "18ca2e80f3ff41a3a00dbce414c06506      http://b3mn.org/stencilset/epc#  \n",
       "\n",
       "[1021471 rows x 7 columns]"
      ]
     },
     "execution_count": 11,
     "metadata": {},
     "output_type": "execute_result"
    }
   ],
   "source": [
    "df_meta = parser.parse_model_metadata()\n",
    "df_meta"
   ]
  },
  {
   "cell_type": "markdown",
   "id": "6014c750-c9cb-4347-bc5e-80e8285382e2",
   "metadata": {},
   "source": [
    "The `df_meta` dataframe can be used to perform analysis on model level, e.g. to analyze the frequency of each modeling notation or to analyze the model names.\n",
    "\n",
    "Here is an example that shows the distribution of the length of the model names:"
   ]
  },
  {
   "cell_type": "code",
   "execution_count": 12,
   "id": "6378ee0b-496b-4441-b481-3b6cb95644b8",
   "metadata": {},
   "outputs": [
    {
     "data": {
      "text/html": [
       "<div>\n",
       "<style scoped>\n",
       "    .dataframe tbody tr th:only-of-type {\n",
       "        vertical-align: middle;\n",
       "    }\n",
       "\n",
       "    .dataframe tbody tr th {\n",
       "        vertical-align: top;\n",
       "    }\n",
       "\n",
       "    .dataframe thead th {\n",
       "        text-align: right;\n",
       "    }\n",
       "</style>\n",
       "<table border=\"1\" class=\"dataframe\">\n",
       "  <thead>\n",
       "    <tr style=\"text-align: right;\">\n",
       "      <th></th>\n",
       "      <th>count</th>\n",
       "      <th>mean</th>\n",
       "      <th>std</th>\n",
       "      <th>min</th>\n",
       "      <th>25%</th>\n",
       "      <th>50%</th>\n",
       "      <th>75%</th>\n",
       "      <th>max</th>\n",
       "    </tr>\n",
       "  </thead>\n",
       "  <tbody>\n",
       "    <tr>\n",
       "      <th>name</th>\n",
       "      <td>1021471.0</td>\n",
       "      <td>23.3</td>\n",
       "      <td>12.17</td>\n",
       "      <td>1.0</td>\n",
       "      <td>15.0</td>\n",
       "      <td>21.0</td>\n",
       "      <td>29.0</td>\n",
       "      <td>273.0</td>\n",
       "    </tr>\n",
       "  </tbody>\n",
       "</table>\n",
       "</div>"
      ],
      "text/plain": [
       "          count  mean    std  min   25%   50%   75%    max\n",
       "name  1021471.0  23.3  12.17  1.0  15.0  21.0  29.0  273.0"
      ]
     },
     "execution_count": 12,
     "metadata": {},
     "output_type": "execute_result"
    },
    {
     "data": {
      "image/png": "[encoded data removed]",
      "text/plain": [
       "<Figure size 864x288 with 1 Axes>"
      ]
     },
     "metadata": {
      "needs_background": "light"
     },
     "output_type": "display_data"
    }
   ],
   "source": [
    "s_name_len = df_meta.name.map(lambda o: len(str(o)))\n",
    "sns.displot(s_name_len, bins=np.arange(100), height=4, aspect=3);\n",
    "s_name_len.describe().to_frame().T.round(2)"
   ]
  },
  {
   "cell_type": "markdown",
   "id": "ac7bbf85-f36e-4ddf-a3a0-3f2ba879b887",
   "metadata": {},
   "source": [
    "The sharp peaks might stem from the example processes that are added to each newly created workspace and might be worth further investigation. :-)"
   ]
  },
  {
   "cell_type": "markdown",
   "id": "d8a534e2-0811-4dd7-b433-a406944eee7c",
   "metadata": {},
   "source": [
    "# BPMN Model Elements"
   ]
  },
  {
   "cell_type": "markdown",
   "id": "f7a7cc44-a1b7-4a9b-ae22-ebf663bab1d7",
   "metadata": {},
   "source": [
    "As mentioned, we provide a BPMN model parser that returns a DataFrame with one row per model element."
   ]
  },
  {
   "cell_type": "code",
   "execution_count": 13,
   "id": "ae342b15-f0a5-40c7-97ad-f57740f5072f",
   "metadata": {
    "tags": []
   },
   "outputs": [
    {
     "name": "stderr",
     "output_type": "stream",
     "text": [
      "2022-08-18 16:07:18,229 INFO - Found 103 csvs\n",
      "2022-08-18 16:07:18,230 INFO - Starting to parse 103 cvs\n",
      "100%|███████████████████████████████████████████████████████████████████████████| 103/103 [35:19<00:00, 20.57s/it]\n"
     ]
    },
    {
     "data": {
      "text/html": [
       "<div>\n",
       "<style scoped>\n",
       "    .dataframe tbody tr th:only-of-type {\n",
       "        vertical-align: middle;\n",
       "    }\n",
       "\n",
       "    .dataframe tbody tr th {\n",
       "        vertical-align: top;\n",
       "    }\n",
       "\n",
       "    .dataframe thead th {\n",
       "        text-align: right;\n",
       "    }\n",
       "</style>\n",
       "<table border=\"1\" class=\"dataframe\">\n",
       "  <thead>\n",
       "    <tr style=\"text-align: right;\">\n",
       "      <th></th>\n",
       "      <th></th>\n",
       "      <th>category</th>\n",
       "      <th>label</th>\n",
       "    </tr>\n",
       "    <tr>\n",
       "      <th>model_id</th>\n",
       "      <th>element_id</th>\n",
       "      <th></th>\n",
       "      <th></th>\n",
       "    </tr>\n",
       "  </thead>\n",
       "  <tbody>\n",
       "    <tr>\n",
       "      <th rowspan=\"5\" valign=\"top\">1ba74449e9354d0c9d4798b4a6e915d0</th>\n",
       "      <th>sid-7D3363B0-6AAD-4B13-AFAD-B3F2525191FD</th>\n",
       "      <td>MessageFlow</td>\n",
       "      <td></td>\n",
       "    </tr>\n",
       "    <tr>\n",
       "      <th>sid-00A06776-842A-40B5-9F67-A7A2B247CBAE</th>\n",
       "      <td>Pool</td>\n",
       "      <td>Konobar\\n</td>\n",
       "    </tr>\n",
       "    <tr>\n",
       "      <th>sid-3E27602D-0560-44E1-8089-4FC264FA9803</th>\n",
       "      <td>Lane</td>\n",
       "      <td></td>\n",
       "    </tr>\n",
       "    <tr>\n",
       "      <th>sid-6E3EE415-179F-4D56-AA73-B8D0CC2B5246</th>\n",
       "      <td>StartMessageEvent</td>\n",
       "      <td>Narudžba primljena\\n</td>\n",
       "    </tr>\n",
       "    <tr>\n",
       "      <th>sid-ED915395-D5F6-44D6-80C5-11D279EBC262</th>\n",
       "      <td>SequenceFlow</td>\n",
       "      <td></td>\n",
       "    </tr>\n",
       "  </tbody>\n",
       "</table>\n",
       "</div>"
      ],
      "text/plain": [
       "                                                                                    category  \\\n",
       "model_id                         element_id                                                    \n",
       "1ba74449e9354d0c9d4798b4a6e915d0 sid-7D3363B0-6AAD-4B13-AFAD-B3F2525191FD        MessageFlow   \n",
       "                                 sid-00A06776-842A-40B5-9F67-A7A2B247CBAE               Pool   \n",
       "                                 sid-3E27602D-0560-44E1-8089-4FC264FA9803               Lane   \n",
       "                                 sid-6E3EE415-179F-4D56-AA73-B8D0CC2B5246  StartMessageEvent   \n",
       "                                 sid-ED915395-D5F6-44D6-80C5-11D279EBC262       SequenceFlow   \n",
       "\n",
       "                                                                                          label  \n",
       "model_id                         element_id                                                      \n",
       "1ba74449e9354d0c9d4798b4a6e915d0 sid-7D3363B0-6AAD-4B13-AFAD-B3F2525191FD                        \n",
       "                                 sid-00A06776-842A-40B5-9F67-A7A2B247CBAE             Konobar\\n  \n",
       "                                 sid-3E27602D-0560-44E1-8089-4FC264FA9803                        \n",
       "                                 sid-6E3EE415-179F-4D56-AA73-B8D0CC2B5246  Narudžba primljena\\n  \n",
       "                                 sid-ED915395-D5F6-44D6-80C5-11D279EBC262                        "
      ]
     },
     "execution_count": 13,
     "metadata": {},
     "output_type": "execute_result"
    }
   ],
   "source": [
    "p = parser.BpmnModelParser()\n",
    "df = p.parse_model_elements()\n",
    "df.head()"
   ]
  },
  {
   "cell_type": "markdown",
   "id": "973024a6-6381-4baa-a43d-445f2029a604",
   "metadata": {},
   "source": [
    "Let's cache the DataFrame as a pickle file."
   ]
  },
  {
   "cell_type": "code",
   "execution_count": 14,
   "id": "329095cf-2755-462c-8546-1766ffa2274e",
   "metadata": {},
   "outputs": [],
   "source": [
    "df.to_pickle(constants.DATA_INTERIM / \"bpmn_elements.pkl\")"
   ]
  },
  {
   "cell_type": "markdown",
   "id": "1261fbba-1b29-4378-a7cf-dac11c540477",
   "metadata": {},
   "source": [
    "In other notebooks/code, this dataframe can then directly loaded with the reverse operation:\n",
    "```python\n",
    "df = pd.read_pickle(constants.DATA_INTERIM / \"bpmn_elements.pkl\")\n",
    "```"
   ]
  },
  {
   "cell_type": "markdown",
   "id": "33d53411-2ab4-4b3a-910a-81483dd3e856",
   "metadata": {},
   "source": [
    "The dataframe can be used to analyze various BPMN model aspects, such as the frequency of BPMN element types, the labels of the BPMN elements, and relational aspects that, e.g., analyze which elements often follow each other.\n",
    "We provide some starter code for each use case below."
   ]
  },
  {
   "cell_type": "markdown",
   "id": "73e3464b-6bcd-474f-9c0d-1a51f47a7776",
   "metadata": {},
   "source": [
    "## BPMN constructs"
   ]
  },
  {
   "cell_type": "markdown",
   "id": "5b4d9b5f-eecd-485c-95c9-07d02c2cc493",
   "metadata": {},
   "source": [
    "We can group by `model_id` and then count the number of time each element type appears per model:"
   ]
  },
  {
   "cell_type": "code",
   "execution_count": 15,
   "id": "545f4b40-e24d-4575-be9a-ce8bcd8fcaf2",
   "metadata": {},
   "outputs": [
    {
     "data": {
      "text/html": [
       "<div>\n",
       "<style scoped>\n",
       "    .dataframe tbody tr th:only-of-type {\n",
       "        vertical-align: middle;\n",
       "    }\n",
       "\n",
       "    .dataframe tbody tr th {\n",
       "        vertical-align: top;\n",
       "    }\n",
       "\n",
       "    .dataframe thead th {\n",
       "        text-align: right;\n",
       "    }\n",
       "</style>\n",
       "<table border=\"1\" class=\"dataframe\">\n",
       "  <thead>\n",
       "    <tr style=\"text-align: right;\">\n",
       "      <th>category</th>\n",
       "      <th>Association_Bidirectional</th>\n",
       "      <th>Association_Undirected</th>\n",
       "      <th>Association_Unidirectional</th>\n",
       "      <th>ChoreographyParticipant</th>\n",
       "      <th>ChoreographyTask</th>\n",
       "      <th>CollapsedEventSubprocess</th>\n",
       "      <th>CollapsedPool</th>\n",
       "      <th>CollapsedSubprocess</th>\n",
       "      <th>CollapsedVerticalPool</th>\n",
       "      <th>Communication</th>\n",
       "      <th>...</th>\n",
       "      <th>TextAnnotation</th>\n",
       "      <th>VerticalLane</th>\n",
       "      <th>VerticalPool</th>\n",
       "      <th>gdashedline</th>\n",
       "      <th>gdiamond</th>\n",
       "      <th>gdottedline</th>\n",
       "      <th>gellipse</th>\n",
       "      <th>grect</th>\n",
       "      <th>gtext</th>\n",
       "      <th>processparticipant</th>\n",
       "    </tr>\n",
       "    <tr>\n",
       "      <th>model_id</th>\n",
       "      <th></th>\n",
       "      <th></th>\n",
       "      <th></th>\n",
       "      <th></th>\n",
       "      <th></th>\n",
       "      <th></th>\n",
       "      <th></th>\n",
       "      <th></th>\n",
       "      <th></th>\n",
       "      <th></th>\n",
       "      <th></th>\n",
       "      <th></th>\n",
       "      <th></th>\n",
       "      <th></th>\n",
       "      <th></th>\n",
       "      <th></th>\n",
       "      <th></th>\n",
       "      <th></th>\n",
       "      <th></th>\n",
       "      <th></th>\n",
       "      <th></th>\n",
       "    </tr>\n",
       "  </thead>\n",
       "  <tbody>\n",
       "    <tr>\n",
       "      <th>0000150e890c45928d26584d491ada68</th>\n",
       "      <td>0</td>\n",
       "      <td>0</td>\n",
       "      <td>0</td>\n",
       "      <td>0</td>\n",
       "      <td>0</td>\n",
       "      <td>0</td>\n",
       "      <td>0</td>\n",
       "      <td>0</td>\n",
       "      <td>0</td>\n",
       "      <td>0</td>\n",
       "      <td>...</td>\n",
       "      <td>0</td>\n",
       "      <td>0</td>\n",
       "      <td>0</td>\n",
       "      <td>0</td>\n",
       "      <td>0</td>\n",
       "      <td>0</td>\n",
       "      <td>0</td>\n",
       "      <td>0</td>\n",
       "      <td>0</td>\n",
       "      <td>0</td>\n",
       "    </tr>\n",
       "    <tr>\n",
       "      <th>00001f477e9a4fb1b9dcb27e029a426d</th>\n",
       "      <td>0</td>\n",
       "      <td>2</td>\n",
       "      <td>3</td>\n",
       "      <td>0</td>\n",
       "      <td>0</td>\n",
       "      <td>0</td>\n",
       "      <td>1</td>\n",
       "      <td>1</td>\n",
       "      <td>0</td>\n",
       "      <td>0</td>\n",
       "      <td>...</td>\n",
       "      <td>0</td>\n",
       "      <td>0</td>\n",
       "      <td>0</td>\n",
       "      <td>0</td>\n",
       "      <td>0</td>\n",
       "      <td>0</td>\n",
       "      <td>0</td>\n",
       "      <td>0</td>\n",
       "      <td>0</td>\n",
       "      <td>0</td>\n",
       "    </tr>\n",
       "    <tr>\n",
       "      <th>...</th>\n",
       "      <td>...</td>\n",
       "      <td>...</td>\n",
       "      <td>...</td>\n",
       "      <td>...</td>\n",
       "      <td>...</td>\n",
       "      <td>...</td>\n",
       "      <td>...</td>\n",
       "      <td>...</td>\n",
       "      <td>...</td>\n",
       "      <td>...</td>\n",
       "      <td>...</td>\n",
       "      <td>...</td>\n",
       "      <td>...</td>\n",
       "      <td>...</td>\n",
       "      <td>...</td>\n",
       "      <td>...</td>\n",
       "      <td>...</td>\n",
       "      <td>...</td>\n",
       "      <td>...</td>\n",
       "      <td>...</td>\n",
       "      <td>...</td>\n",
       "    </tr>\n",
       "    <tr>\n",
       "      <th>fffff2b0eafa4ecca0b00fb5c6ccb4ef</th>\n",
       "      <td>0</td>\n",
       "      <td>2</td>\n",
       "      <td>1</td>\n",
       "      <td>0</td>\n",
       "      <td>0</td>\n",
       "      <td>0</td>\n",
       "      <td>1</td>\n",
       "      <td>0</td>\n",
       "      <td>0</td>\n",
       "      <td>0</td>\n",
       "      <td>...</td>\n",
       "      <td>0</td>\n",
       "      <td>0</td>\n",
       "      <td>0</td>\n",
       "      <td>0</td>\n",
       "      <td>0</td>\n",
       "      <td>0</td>\n",
       "      <td>0</td>\n",
       "      <td>0</td>\n",
       "      <td>0</td>\n",
       "      <td>2</td>\n",
       "    </tr>\n",
       "    <tr>\n",
       "      <th>ffffffd24864440a8effa3cdb9d37cce</th>\n",
       "      <td>0</td>\n",
       "      <td>8</td>\n",
       "      <td>2</td>\n",
       "      <td>0</td>\n",
       "      <td>0</td>\n",
       "      <td>0</td>\n",
       "      <td>1</td>\n",
       "      <td>2</td>\n",
       "      <td>0</td>\n",
       "      <td>0</td>\n",
       "      <td>...</td>\n",
       "      <td>0</td>\n",
       "      <td>0</td>\n",
       "      <td>0</td>\n",
       "      <td>0</td>\n",
       "      <td>0</td>\n",
       "      <td>0</td>\n",
       "      <td>0</td>\n",
       "      <td>0</td>\n",
       "      <td>0</td>\n",
       "      <td>0</td>\n",
       "    </tr>\n",
       "  </tbody>\n",
       "</table>\n",
       "<p>605506 rows × 76 columns</p>\n",
       "</div>"
      ],
      "text/plain": [
       "category                          Association_Bidirectional  \\\n",
       "model_id                                                      \n",
       "0000150e890c45928d26584d491ada68                          0   \n",
       "00001f477e9a4fb1b9dcb27e029a426d                          0   \n",
       "...                                                     ...   \n",
       "fffff2b0eafa4ecca0b00fb5c6ccb4ef                          0   \n",
       "ffffffd24864440a8effa3cdb9d37cce                          0   \n",
       "\n",
       "category                          Association_Undirected  \\\n",
       "model_id                                                   \n",
       "0000150e890c45928d26584d491ada68                       0   \n",
       "00001f477e9a4fb1b9dcb27e029a426d                       2   \n",
       "...                                                  ...   \n",
       "fffff2b0eafa4ecca0b00fb5c6ccb4ef                       2   \n",
       "ffffffd24864440a8effa3cdb9d37cce                       8   \n",
       "\n",
       "category                          Association_Unidirectional  \\\n",
       "model_id                                                       \n",
       "0000150e890c45928d26584d491ada68                           0   \n",
       "00001f477e9a4fb1b9dcb27e029a426d                           3   \n",
       "...                                                      ...   \n",
       "fffff2b0eafa4ecca0b00fb5c6ccb4ef                           1   \n",
       "ffffffd24864440a8effa3cdb9d37cce                           2   \n",
       "\n",
       "category                          ChoreographyParticipant  ChoreographyTask  \\\n",
       "model_id                                                                      \n",
       "0000150e890c45928d26584d491ada68                        0                 0   \n",
       "00001f477e9a4fb1b9dcb27e029a426d                        0                 0   \n",
       "...                                                   ...               ...   \n",
       "fffff2b0eafa4ecca0b00fb5c6ccb4ef                        0                 0   \n",
       "ffffffd24864440a8effa3cdb9d37cce                        0                 0   \n",
       "\n",
       "category                          CollapsedEventSubprocess  CollapsedPool  \\\n",
       "model_id                                                                    \n",
       "0000150e890c45928d26584d491ada68                         0              0   \n",
       "00001f477e9a4fb1b9dcb27e029a426d                         0              1   \n",
       "...                                                    ...            ...   \n",
       "fffff2b0eafa4ecca0b00fb5c6ccb4ef                         0              1   \n",
       "ffffffd24864440a8effa3cdb9d37cce                         0              1   \n",
       "\n",
       "category                          CollapsedSubprocess  CollapsedVerticalPool  \\\n",
       "model_id                                                                       \n",
       "0000150e890c45928d26584d491ada68                    0                      0   \n",
       "00001f477e9a4fb1b9dcb27e029a426d                    1                      0   \n",
       "...                                               ...                    ...   \n",
       "fffff2b0eafa4ecca0b00fb5c6ccb4ef                    0                      0   \n",
       "ffffffd24864440a8effa3cdb9d37cce                    2                      0   \n",
       "\n",
       "category                          Communication  ...  TextAnnotation  \\\n",
       "model_id                                         ...                   \n",
       "0000150e890c45928d26584d491ada68              0  ...               0   \n",
       "00001f477e9a4fb1b9dcb27e029a426d              0  ...               0   \n",
       "...                                         ...  ...             ...   \n",
       "fffff2b0eafa4ecca0b00fb5c6ccb4ef              0  ...               0   \n",
       "ffffffd24864440a8effa3cdb9d37cce              0  ...               0   \n",
       "\n",
       "category                          VerticalLane  VerticalPool  gdashedline  \\\n",
       "model_id                                                                    \n",
       "0000150e890c45928d26584d491ada68             0             0            0   \n",
       "00001f477e9a4fb1b9dcb27e029a426d             0             0            0   \n",
       "...                                        ...           ...          ...   \n",
       "fffff2b0eafa4ecca0b00fb5c6ccb4ef             0             0            0   \n",
       "ffffffd24864440a8effa3cdb9d37cce             0             0            0   \n",
       "\n",
       "category                          gdiamond  gdottedline  gellipse  grect  \\\n",
       "model_id                                                                   \n",
       "0000150e890c45928d26584d491ada68         0            0         0      0   \n",
       "00001f477e9a4fb1b9dcb27e029a426d         0            0         0      0   \n",
       "...                                    ...          ...       ...    ...   \n",
       "fffff2b0eafa4ecca0b00fb5c6ccb4ef         0            0         0      0   \n",
       "ffffffd24864440a8effa3cdb9d37cce         0            0         0      0   \n",
       "\n",
       "category                          gtext  processparticipant  \n",
       "model_id                                                     \n",
       "0000150e890c45928d26584d491ada68      0                   0  \n",
       "00001f477e9a4fb1b9dcb27e029a426d      0                   0  \n",
       "...                                 ...                 ...  \n",
       "fffff2b0eafa4ecca0b00fb5c6ccb4ef      0                   2  \n",
       "ffffffd24864440a8effa3cdb9d37cce      0                   0  \n",
       "\n",
       "[605506 rows x 76 columns]"
      ]
     },
     "execution_count": 15,
     "metadata": {},
     "output_type": "execute_result"
    }
   ],
   "source": [
    "df_cnts = (\n",
    "    df.groupby(\"model_id\").category\n",
    "    .value_counts()\n",
    "    .to_frame(\"count\")\n",
    "    .unstack()\n",
    "    .droplevel(0, axis='columns') # drop first level column level \"count\" that unstack produces\n",
    "    .fillna(0, downcast=\"infer\")\n",
    ")\n",
    "df_cnts"
   ]
  },
  {
   "cell_type": "markdown",
   "id": "6e0fe5cd-1a1b-4e9f-8dcb-b5acbaf2c941",
   "metadata": {},
   "source": [
    "Plot how often each element type appears in a model at least once:"
   ]
  },
  {
   "cell_type": "code",
   "execution_count": 16,
   "id": "ec38aaf3-eaec-41f8-9f72-330268179143",
   "metadata": {},
   "outputs": [
    {
     "data": {
      "image/png": "[encoded data removed]",
      "text/plain": [
       "<Figure size 720x1080 with 1 Axes>"
      ]
     },
     "metadata": {
      "needs_background": "light"
     },
     "output_type": "display_data"
    }
   ],
   "source": [
    "df_freq = (\n",
    "    df_cnts\n",
    "    .gt(0)\n",
    "    .sum()\n",
    "    .div(len(df_cnts))\n",
    "    .sort_values(ascending=False)\n",
    "    .to_frame(\"freq\")\n",
    "    .reset_index()\n",
    ")\n",
    "\n",
    "plt.figure(figsize=(10,15))\n",
    "sns.barplot(x=\"freq\", y=\"category\", data=df_freq);"
   ]
  },
  {
   "cell_type": "markdown",
   "id": "77723c39-6c0b-43e4-9546-c45bbe66cedd",
   "metadata": {},
   "source": [
    "## BPMN labels"
   ]
  },
  {
   "cell_type": "markdown",
   "id": "52d07d55-9b53-4b98-8fc2-b86397b7ab28",
   "metadata": {},
   "source": [
    "We can also analyze the labels of the model elements. Let's compute the length of each label:"
   ]
  },
  {
   "cell_type": "code",
   "execution_count": 17,
   "id": "182242ea-4f1c-4d60-95a3-af10e45c3ca9",
   "metadata": {},
   "outputs": [
    {
     "data": {
      "text/html": [
       "<div>\n",
       "<style scoped>\n",
       "    .dataframe tbody tr th:only-of-type {\n",
       "        vertical-align: middle;\n",
       "    }\n",
       "\n",
       "    .dataframe tbody tr th {\n",
       "        vertical-align: top;\n",
       "    }\n",
       "\n",
       "    .dataframe thead th {\n",
       "        text-align: right;\n",
       "    }\n",
       "</style>\n",
       "<table border=\"1\" class=\"dataframe\">\n",
       "  <thead>\n",
       "    <tr style=\"text-align: right;\">\n",
       "      <th></th>\n",
       "      <th></th>\n",
       "      <th>lbl_len</th>\n",
       "    </tr>\n",
       "    <tr>\n",
       "      <th>model_id</th>\n",
       "      <th>element_id</th>\n",
       "      <th></th>\n",
       "    </tr>\n",
       "  </thead>\n",
       "  <tbody>\n",
       "    <tr>\n",
       "      <th rowspan=\"2\" valign=\"top\">1ba74449e9354d0c9d4798b4a6e915d0</th>\n",
       "      <th>sid-7D3363B0-6AAD-4B13-AFAD-B3F2525191FD</th>\n",
       "      <td>0</td>\n",
       "    </tr>\n",
       "    <tr>\n",
       "      <th>sid-00A06776-842A-40B5-9F67-A7A2B247CBAE</th>\n",
       "      <td>8</td>\n",
       "    </tr>\n",
       "    <tr>\n",
       "      <th>...</th>\n",
       "      <th>...</th>\n",
       "      <td>...</td>\n",
       "    </tr>\n",
       "    <tr>\n",
       "      <th rowspan=\"2\" valign=\"top\">18ca2c45cb824d06ae8573f0afb8813e</th>\n",
       "      <th>sid-95E44D63-A1AA-46F8-966E-E28F326ED50A</th>\n",
       "      <td>15</td>\n",
       "    </tr>\n",
       "    <tr>\n",
       "      <th>sid-6B8FC9F7-9A29-43F2-BE0B-D494F6275B8F</th>\n",
       "      <td>27</td>\n",
       "    </tr>\n",
       "  </tbody>\n",
       "</table>\n",
       "<p>28293762 rows × 1 columns</p>\n",
       "</div>"
      ],
      "text/plain": [
       "                                                                           lbl_len\n",
       "model_id                         element_id                                       \n",
       "1ba74449e9354d0c9d4798b4a6e915d0 sid-7D3363B0-6AAD-4B13-AFAD-B3F2525191FD        0\n",
       "                                 sid-00A06776-842A-40B5-9F67-A7A2B247CBAE        8\n",
       "...                                                                            ...\n",
       "18ca2c45cb824d06ae8573f0afb8813e sid-95E44D63-A1AA-46F8-966E-E28F326ED50A       15\n",
       "                                 sid-6B8FC9F7-9A29-43F2-BE0B-D494F6275B8F       27\n",
       "\n",
       "[28293762 rows x 1 columns]"
      ]
     },
     "execution_count": 17,
     "metadata": {},
     "output_type": "execute_result"
    }
   ],
   "source": [
    "df_lbl_len = df.label.fillna(\"\").map(len).to_frame(\"lbl_len\")\n",
    "df_lbl_len"
   ]
  },
  {
   "cell_type": "markdown",
   "id": "9d24a552-734e-4e33-8bad-509a4de549f3",
   "metadata": {},
   "source": [
    "Now let's check the maximum label length per model:"
   ]
  },
  {
   "cell_type": "code",
   "execution_count": 18,
   "id": "cc0a956e-1f9c-47ee-8102-e3acf98cf23a",
   "metadata": {},
   "outputs": [
    {
     "data": {
      "text/html": [
       "<div>\n",
       "<style scoped>\n",
       "    .dataframe tbody tr th:only-of-type {\n",
       "        vertical-align: middle;\n",
       "    }\n",
       "\n",
       "    .dataframe tbody tr th {\n",
       "        vertical-align: top;\n",
       "    }\n",
       "\n",
       "    .dataframe thead th {\n",
       "        text-align: right;\n",
       "    }\n",
       "</style>\n",
       "<table border=\"1\" class=\"dataframe\">\n",
       "  <thead>\n",
       "    <tr style=\"text-align: right;\">\n",
       "      <th></th>\n",
       "      <th>count</th>\n",
       "      <th>mean</th>\n",
       "      <th>std</th>\n",
       "      <th>min</th>\n",
       "      <th>25%</th>\n",
       "      <th>50%</th>\n",
       "      <th>75%</th>\n",
       "      <th>max</th>\n",
       "    </tr>\n",
       "  </thead>\n",
       "  <tbody>\n",
       "    <tr>\n",
       "      <th>lbl_len</th>\n",
       "      <td>605506.0</td>\n",
       "      <td>41.3</td>\n",
       "      <td>30.3</td>\n",
       "      <td>0.0</td>\n",
       "      <td>33.0</td>\n",
       "      <td>40.0</td>\n",
       "      <td>44.0</td>\n",
       "      <td>4043.0</td>\n",
       "    </tr>\n",
       "  </tbody>\n",
       "</table>\n",
       "</div>"
      ],
      "text/plain": [
       "            count  mean   std  min   25%   50%   75%     max\n",
       "lbl_len  605506.0  41.3  30.3  0.0  33.0  40.0  44.0  4043.0"
      ]
     },
     "execution_count": 18,
     "metadata": {},
     "output_type": "execute_result"
    },
    {
     "data": {
      "image/png": "[encoded data removed]",
      "text/plain": [
       "<Figure size 648x216 with 1 Axes>"
      ]
     },
     "metadata": {
      "needs_background": "light"
     },
     "output_type": "display_data"
    }
   ],
   "source": [
    "df_lbl_max_len = df_lbl_len.groupby(\"model_id\").lbl_len.max()\n",
    "sns.displot(df_lbl_max_len, bins=np.arange(100), height=3, aspect=3);\n",
    "df_lbl_max_len.describe().to_frame().T.round(1)"
   ]
  },
  {
   "cell_type": "markdown",
   "id": "2067718f-3ff2-4d26-bfdb-5272cc714e9c",
   "metadata": {},
   "source": [
    "Again, the peaks around 40 might stem from the high number of example processes present in the dataset."
   ]
  },
  {
   "cell_type": "markdown",
   "id": "522aaab9-f4dd-4f13-9b8b-e501cf5aacd3",
   "metadata": {},
   "source": [
    "## BPMN relations"
   ]
  },
  {
   "cell_type": "markdown",
   "id": "064b71d8-db7a-4879-b50b-6ef15b3ab9ec",
   "metadata": {},
   "source": [
    "The outgoing and parent attributes can be used to analyze the edges in the BPMN models and also hierarchical relations, such as how many elements a lane typically contains. The `BpmnModelParser` has two parameters that can be used to parse these attributes. As the resulting DataFrame for the entire dataset would consume a lot of memory, we only show the result when parsing the first CSV:"
   ]
  },
  {
   "cell_type": "code",
   "execution_count": 19,
   "id": "9f9b692b-a330-483d-9850-775f86814027",
   "metadata": {},
   "outputs": [
    {
     "name": "stderr",
     "output_type": "stream",
     "text": [
      "2022-08-18 16:44:45,143 INFO - Starting to parse 1 cvs\n",
      "100%|███████████████████████████████████████████████████████████████████████████████| 1/1 [00:15<00:00, 15.13s/it]\n"
     ]
    },
    {
     "data": {
      "text/html": [
       "<div>\n",
       "<style scoped>\n",
       "    .dataframe tbody tr th:only-of-type {\n",
       "        vertical-align: middle;\n",
       "    }\n",
       "\n",
       "    .dataframe tbody tr th {\n",
       "        vertical-align: top;\n",
       "    }\n",
       "\n",
       "    .dataframe thead th {\n",
       "        text-align: right;\n",
       "    }\n",
       "</style>\n",
       "<table border=\"1\" class=\"dataframe\">\n",
       "  <thead>\n",
       "    <tr style=\"text-align: right;\">\n",
       "      <th></th>\n",
       "      <th></th>\n",
       "      <th>category</th>\n",
       "      <th>label</th>\n",
       "      <th>parent</th>\n",
       "      <th>outgoing</th>\n",
       "    </tr>\n",
       "    <tr>\n",
       "      <th>model_id</th>\n",
       "      <th>element_id</th>\n",
       "      <th></th>\n",
       "      <th></th>\n",
       "      <th></th>\n",
       "      <th></th>\n",
       "    </tr>\n",
       "  </thead>\n",
       "  <tbody>\n",
       "    <tr>\n",
       "      <th rowspan=\"2\" valign=\"top\">1ba74449e9354d0c9d4798b4a6e915d0</th>\n",
       "      <th>sid-7D3363B0-6AAD-4B13-AFAD-B3F2525191FD</th>\n",
       "      <td>MessageFlow</td>\n",
       "      <td></td>\n",
       "      <td>canvas</td>\n",
       "      <td>[sid-6E3EE415-179F-4D56-AA73-B8D0CC2B5246]</td>\n",
       "    </tr>\n",
       "    <tr>\n",
       "      <th>sid-00A06776-842A-40B5-9F67-A7A2B247CBAE</th>\n",
       "      <td>Pool</td>\n",
       "      <td>Konobar\\n</td>\n",
       "      <td>canvas</td>\n",
       "      <td>[]</td>\n",
       "    </tr>\n",
       "    <tr>\n",
       "      <th>...</th>\n",
       "      <th>...</th>\n",
       "      <td>...</td>\n",
       "      <td>...</td>\n",
       "      <td>...</td>\n",
       "      <td>...</td>\n",
       "    </tr>\n",
       "    <tr>\n",
       "      <th rowspan=\"2\" valign=\"top\">1e29cf037dde455f8cd83ebf1aa15cb9</th>\n",
       "      <th>sid-CD5BA5A2-D5AA-415E-818A-E934A4E2FFAD</th>\n",
       "      <td>Task</td>\n",
       "      <td>GREET AND SEAT</td>\n",
       "      <td>canvas</td>\n",
       "      <td>[sid-75E11EA7-60E0-4C6E-919A-F1C511E61AD9]</td>\n",
       "    </tr>\n",
       "    <tr>\n",
       "      <th>sid-626AA700-9D69-4045-88A0-AB3FBECAB0BF</th>\n",
       "      <td>StartNoneEvent</td>\n",
       "      <td>CUSTOMER ARRIVED</td>\n",
       "      <td>canvas</td>\n",
       "      <td>[sid-0AC8122D-1CFF-4777-B186-D2273EA8EF3D]</td>\n",
       "    </tr>\n",
       "  </tbody>\n",
       "</table>\n",
       "<p>270885 rows × 4 columns</p>\n",
       "</div>"
      ],
      "text/plain": [
       "                                                                                 category  \\\n",
       "model_id                         element_id                                                 \n",
       "1ba74449e9354d0c9d4798b4a6e915d0 sid-7D3363B0-6AAD-4B13-AFAD-B3F2525191FD     MessageFlow   \n",
       "                                 sid-00A06776-842A-40B5-9F67-A7A2B247CBAE            Pool   \n",
       "...                                                                                   ...   \n",
       "1e29cf037dde455f8cd83ebf1aa15cb9 sid-CD5BA5A2-D5AA-415E-818A-E934A4E2FFAD            Task   \n",
       "                                 sid-626AA700-9D69-4045-88A0-AB3FBECAB0BF  StartNoneEvent   \n",
       "\n",
       "                                                                                      label  \\\n",
       "model_id                         element_id                                                   \n",
       "1ba74449e9354d0c9d4798b4a6e915d0 sid-7D3363B0-6AAD-4B13-AFAD-B3F2525191FD                     \n",
       "                                 sid-00A06776-842A-40B5-9F67-A7A2B247CBAE         Konobar\\n   \n",
       "...                                                                                     ...   \n",
       "1e29cf037dde455f8cd83ebf1aa15cb9 sid-CD5BA5A2-D5AA-415E-818A-E934A4E2FFAD    GREET AND SEAT   \n",
       "                                 sid-626AA700-9D69-4045-88A0-AB3FBECAB0BF  CUSTOMER ARRIVED   \n",
       "\n",
       "                                                                           parent  \\\n",
       "model_id                         element_id                                         \n",
       "1ba74449e9354d0c9d4798b4a6e915d0 sid-7D3363B0-6AAD-4B13-AFAD-B3F2525191FD  canvas   \n",
       "                                 sid-00A06776-842A-40B5-9F67-A7A2B247CBAE  canvas   \n",
       "...                                                                           ...   \n",
       "1e29cf037dde455f8cd83ebf1aa15cb9 sid-CD5BA5A2-D5AA-415E-818A-E934A4E2FFAD  canvas   \n",
       "                                 sid-626AA700-9D69-4045-88A0-AB3FBECAB0BF  canvas   \n",
       "\n",
       "                                                                                                             outgoing  \n",
       "model_id                         element_id                                                                            \n",
       "1ba74449e9354d0c9d4798b4a6e915d0 sid-7D3363B0-6AAD-4B13-AFAD-B3F2525191FD  [sid-6E3EE415-179F-4D56-AA73-B8D0CC2B5246]  \n",
       "                                 sid-00A06776-842A-40B5-9F67-A7A2B247CBAE                                          []  \n",
       "...                                                                                                               ...  \n",
       "1e29cf037dde455f8cd83ebf1aa15cb9 sid-CD5BA5A2-D5AA-415E-818A-E934A4E2FFAD  [sid-75E11EA7-60E0-4C6E-919A-F1C511E61AD9]  \n",
       "                                 sid-626AA700-9D69-4045-88A0-AB3FBECAB0BF  [sid-0AC8122D-1CFF-4777-B186-D2273EA8EF3D]  \n",
       "\n",
       "[270885 rows x 4 columns]"
      ]
     },
     "execution_count": 19,
     "metadata": {},
     "output_type": "execute_result"
    }
   ],
   "source": [
    "rel_parser = parser.BpmnModelParser(parse_outgoing=True, parse_parent=True)\n",
    "df_rel = rel_parser.parse_model_elements(csv_paths=csv_paths[:1])\n",
    "df_rel"
   ]
  }
 ],
 "metadata": {
  "kernelspec": {
   "display_name": "Python 3 (ipykernel)",
   "language": "python",
   "name": "python3"
  },
  "language_info": {
   "codemirror_mode": {
    "name": "ipython",
    "version": 3
   },
   "file_extension": ".py",
   "mimetype": "text/x-python",
   "name": "python",
   "nbconvert_exporter": "python",
   "pygments_lexer": "ipython3",
   "version": "3.8.12"
  },
  "toc-autonumbering": true,
  "toc-showtags": false
 },
 "nbformat": 4,
 "nbformat_minor": 5
}
