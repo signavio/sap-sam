{
 "cells": [
  {
   "cell_type": "markdown",
   "id": "7b7ad33f",
   "metadata": {},
   "source": [
    "# Image and XML Representations in SAP-SAM\n",
    "This notebook provides a brief tutorial on how to access image and XML representation of SAP-SAM models.\n",
    "In particular, images can be generated using the REST API of SAP Signavio Process Manager (academic edition) and the XML files of the SAP-SAM BPMN 2.x diagrams (with a handful of exceptions) have been published with the January 2023 update of SAP-SAM.\n",
    "\n",
    "## Setup\n",
    "In order to render images or generate BPMN 2.x XML files, we need to create an account on [academic.signavio.com](academic.signavio.com) or on a commercial SAP Signavio system instance. To setup the integration with your SAP Signavio workspace, we create a file named ``conf.py`` in the `notebooks` directory of this project and specify the following variables:\n",
    "\n",
    "* ``email``: the email address with which you have registered your account.\n",
    "* ``pw``: your password -- use a password you do not use elsewhere and do not commit/share the ``conf.py`` file.\n",
    "* ``tenant_id``: the ID of your workspace, which can be obtained by selecting **Help** - **Workspace information** in the explorer of SAP Signavio Process Manager.\n",
    "* ``system_instance``: ``'https://academic.signavio.com'`` or the URL of a commercial system instance.\n",
    "\n",
    "Below, we see an example configuration file:\n",
    "\n",
    "```\n",
    "email = 'jane@doe.org'\n",
    "pw = '1234546'\n",
    "tenant_id = 'cb0f0496e0ca1234562e881f9f654321'\n",
    "system_instance = https://academic.signavio.com\n",
    "```\n",
    "\n",
    "This allows the underlying code to upload diagrams to a specific folder (named `SAP-SAM`) in your workspace so that the server can generate an image (PNG) or XML representation.\n",
    "The folder does not need to be created manually (the SAP-SAM API takes care of this).\n",
    "\n",
    "We import the following dependencies to get started:"
   ]
  },
  {
   "cell_type": "code",
   "execution_count": 1,
   "id": "57b44287",
   "metadata": {},
   "outputs": [],
   "source": [
    "import sys\n",
    "sys.path.append(\"../src\")"
   ]
  },
  {
   "cell_type": "code",
   "execution_count": 2,
   "id": "fb18509e",
   "metadata": {},
   "outputs": [],
   "source": [
    "from IPython.display import Image, display\n",
    "import json\n",
    "import pandas as pd\n",
    "import xml.etree.ElementTree as ET\n",
    "pd.set_option(\"display.min_rows\", 4)\n",
    "from sapsam import parser, constants\n",
    "from sapsam.ImageGenerator import ImageGenerator"
   ]
  },
  {
   "cell_type": "markdown",
   "id": "48ee10a3",
   "metadata": {},
   "source": [
    "## Loading SAP-SAM Content\n",
    "Let us now load a SAP-SAM model (in JSON format) that we want to turn into a graphical model (PNG) and into a standard-compliant BPMN 2.0 XML file:"
   ]
  },
  {
   "cell_type": "code",
   "execution_count": 3,
   "id": "fd03e387",
   "metadata": {},
   "outputs": [
    {
     "data": {
      "text/html": [
       "<div>\n",
       "<style scoped>\n",
       "    .dataframe tbody tr th:only-of-type {\n",
       "        vertical-align: middle;\n",
       "    }\n",
       "\n",
       "    .dataframe tbody tr th {\n",
       "        vertical-align: top;\n",
       "    }\n",
       "\n",
       "    .dataframe thead th {\n",
       "        text-align: right;\n",
       "    }\n",
       "</style>\n",
       "<table border=\"1\" class=\"dataframe\">\n",
       "  <thead>\n",
       "    <tr style=\"text-align: right;\">\n",
       "      <th></th>\n",
       "      <th>Revision ID</th>\n",
       "      <th>Model ID</th>\n",
       "      <th>Organisation ID</th>\n",
       "      <th>Datetime</th>\n",
       "      <th>Model JSON</th>\n",
       "      <th>Description</th>\n",
       "      <th>Name</th>\n",
       "      <th>Type</th>\n",
       "      <th>Namespace</th>\n",
       "    </tr>\n",
       "  </thead>\n",
       "  <tbody>\n",
       "    <tr>\n",
       "      <th>0</th>\n",
       "      <td>NaN</td>\n",
       "      <td>c90aaa8708c849d99d50ee30bf912880</td>\n",
       "      <td>NaN</td>\n",
       "      <td>2023-12-18 12:10:50.0</td>\n",
       "      <td>{\"resourceId\": \"canvas\", \"formats\": {}, \"ssext...</td>\n",
       "      <td>NaN</td>\n",
       "      <td>m123</td>\n",
       "      <td>NaN</td>\n",
       "      <td>http://b3mn.org/stencilset/bpmn2.0#</td>\n",
       "    </tr>\n",
       "  </tbody>\n",
       "</table>\n",
       "</div>"
      ],
      "text/plain": [
       "   Revision ID                          Model ID  Organisation ID  \\\n",
       "0          NaN  c90aaa8708c849d99d50ee30bf912880              NaN   \n",
       "\n",
       "                Datetime                                         Model JSON  \\\n",
       "0  2023-12-18 12:10:50.0  {\"resourceId\": \"canvas\", \"formats\": {}, \"ssext...   \n",
       "\n",
       "   Description  Name  Type                            Namespace  \n",
       "0          NaN  m123   NaN  http://b3mn.org/stencilset/bpmn2.0#  "
      ]
     },
     "execution_count": 3,
     "metadata": {},
     "output_type": "execute_result"
    }
   ],
   "source": [
    "csv_paths = parser.get_csv_paths()\n",
    "csv_path = csv_paths[0]\n",
    "df_raw = pd.read_csv(csv_path, nrows=20)\n",
    "df_raw"
   ]
  },
  {
   "cell_type": "markdown",
   "id": "8bb487f6",
   "metadata": {},
   "source": [
    "In addition, we need the model's namespace and name:"
   ]
  },
  {
   "cell_type": "code",
   "execution_count": 4,
   "id": "02d07978",
   "metadata": {},
   "outputs": [
    {
     "name": "stdout",
     "output_type": "stream",
     "text": [
      "Namespace: http://b3mn.org/stencilset/bpmn2.0#\n",
      "Name: m123\n"
     ]
    }
   ],
   "source": [
    "model_json = df_raw[\"Model JSON\"][0]\n",
    "model_namespace = df_raw[\"Namespace\"][0]\n",
    "# If the name cannot be obtained, the diagram can be named manually or by using a dummy label\n",
    "model_name = df_raw[\"Name\"][0]\n",
    "print('Namespace:', model_namespace)\n",
    "print('Name:', model_name)"
   ]
  },
  {
   "cell_type": "markdown",
   "id": "9f9fff2c",
   "metadata": {},
   "source": [
    "## Rendering Images\n",
    "Now, we can use the SAP-SAM API to create the diagram in SAP Signavio Process Manager and have it generate the image:"
   ]
  },
  {
   "cell_type": "code",
   "execution_count": 5,
   "id": "183260ad",
   "metadata": {},
   "outputs": [
    {
     "data": {
      "image/png": "[encoded data removed]",
      "text/plain": [
       "<IPython.core.display.Image object>"
      ]
     },
     "metadata": {},
     "output_type": "display_data"
    }
   ],
   "source": [
    "gen = ImageGenerator()\n",
    "image_request = gen.generate_image(model_name, model_json, model_namespace)\n",
    "display(Image(image_request))"
   ]
  },
  {
   "cell_type": "markdown",
   "id": "c9484087",
   "metadata": {},
   "source": [
    "Note that the diagram was stored in the `SAP-SAM` folder of the SAP Signavio workspace, but is deleted immediately after the PNG is obtained. In case deletion is undesired, change the method call to `gen.generate_image(model_name, model_json, model_namespace, deletes=False)`."
   ]
  },
  {
   "cell_type": "markdown",
   "id": "0ddc5ad1",
   "metadata": {},
   "source": [
    "## Generating XML Files\n",
    "We can generate XML files in an analogous manner:"
   ]
  },
  {
   "cell_type": "code",
   "execution_count": null,
   "id": "76e20179",
   "metadata": {},
   "outputs": [],
   "source": [
    "import io\n",
    "xml_request = io.StringIO(gen.generate_xml(model_name, model_json, model_namespace).decode(\"utf-8\"))\n",
    "xml_tree = ET.parse(xml_request)\n",
    "print(xml_tree)"
   ]
  },
  {
   "cell_type": "code",
   "execution_count": null,
   "id": "5b4d2664",
   "metadata": {},
   "outputs": [],
   "source": [
    "root = xml_tree.getroot()\n",
    "print(ET.tostring(root,encoding=\"unicode\",method=\"xml\"))"
   ]
  }
 ],
 "metadata": {
  "kernelspec": {
   "display_name": "sapsam_kernel",
   "language": "python",
   "name": "sapsam_kernel"
  },
  "language_info": {
   "codemirror_mode": {
    "name": "ipython",
    "version": 3
   },
   "file_extension": ".py",
   "mimetype": "text/x-python",
   "name": "python",
   "nbconvert_exporter": "python",
   "pygments_lexer": "ipython3",
   "version": "3.11.7"
  }
 },
 "nbformat": 4,
 "nbformat_minor": 5
}
