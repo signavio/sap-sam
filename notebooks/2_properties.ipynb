{
 "cells": [
  {
   "cell_type": "code",
   "execution_count": 2,
   "id": "b8f3c8e6-aaaf-49d4-a292-cc6375a0bcad",
   "metadata": {},
   "outputs": [
    {
     "name": "stdout",
     "output_type": "stream",
     "text": [
      "/Users/pdelannoy/Desktop/sap-sam/notebooks\n",
      "['/Users/pdelannoy/Desktop/sap-sam/notebooks', '/opt/homebrew/Cellar/python@3.8/3.8.18_1/Frameworks/Python.framework/Versions/3.8/lib/python38.zip', '/opt/homebrew/Cellar/python@3.8/3.8.18_1/Frameworks/Python.framework/Versions/3.8/lib/python3.8', '/opt/homebrew/Cellar/python@3.8/3.8.18_1/Frameworks/Python.framework/Versions/3.8/lib/python3.8/lib-dynload', '', '/Users/pdelannoy/Desktop/sap-sam/venv_sapsam/lib/python3.8/site-packages', '../src']\n"
     ]
    }
   ],
   "source": [
    "import sys\n",
    "import os\n",
    "current_directory = os.getcwd()\n",
    "print(current_directory)\n",
    "sys.path.append(\"../src\")\n",
    "print (sys.path)"
   ]
  },
  {
   "cell_type": "code",
   "execution_count": 3,
   "id": "57208e57-d575-4651-a156-de5c5cce5289",
   "metadata": {},
   "outputs": [
    {
     "ename": "TypeError",
     "evalue": "issubclass() arg 1 must be a class",
     "output_type": "error",
     "traceback": [
      "\u001b[0;31m---------------------------------------------------------------------------\u001b[0m",
      "\u001b[0;31mTypeError\u001b[0m                                 Traceback (most recent call last)",
      "Cell \u001b[0;32mIn[3], line 21\u001b[0m\n\u001b[1;32m     18\u001b[0m \u001b[38;5;28;01mfrom\u001b[39;00m \u001b[38;5;21;01mtqdm\u001b[39;00m \u001b[38;5;28;01mimport\u001b[39;00m tqdm\n\u001b[1;32m     19\u001b[0m \u001b[38;5;28;01mfrom\u001b[39;00m \u001b[38;5;21;01mpathlib\u001b[39;00m \u001b[38;5;28;01mimport\u001b[39;00m Path\n\u001b[0;32m---> 21\u001b[0m \u001b[38;5;28;01mfrom\u001b[39;00m \u001b[38;5;21;01msapsam\u001b[39;00m \u001b[38;5;28;01mimport\u001b[39;00m parser, constants, detector\n\u001b[1;32m     23\u001b[0m pd\u001b[38;5;241m.\u001b[39mset_option(\u001b[38;5;124m'\u001b[39m\u001b[38;5;124mdisplay.max_rows\u001b[39m\u001b[38;5;124m'\u001b[39m, \u001b[38;5;28;01mNone\u001b[39;00m, \u001b[38;5;124m'\u001b[39m\u001b[38;5;124mdisplay.max_columns\u001b[39m\u001b[38;5;124m'\u001b[39m, \u001b[38;5;28;01mNone\u001b[39;00m)\n",
      "File \u001b[0;32m~/Desktop/sap-sam/notebooks/../src/sapsam/detector.py:1\u001b[0m\n\u001b[0;32m----> 1\u001b[0m \u001b[38;5;28;01mimport\u001b[39;00m \u001b[38;5;21;01mspacy\u001b[39;00m\n\u001b[1;32m      2\u001b[0m \u001b[38;5;28;01mfrom\u001b[39;00m \u001b[38;5;21;01mspacy\u001b[39;00m\u001b[38;5;21;01m.\u001b[39;00m\u001b[38;5;21;01mlanguage\u001b[39;00m \u001b[38;5;28;01mimport\u001b[39;00m Language\n\u001b[1;32m      3\u001b[0m \u001b[38;5;28;01mfrom\u001b[39;00m \u001b[38;5;21;01mspacy_langdetect\u001b[39;00m \u001b[38;5;28;01mimport\u001b[39;00m LanguageDetector\n",
      "File \u001b[0;32m~/Desktop/sap-sam/venv_sapsam/lib/python3.8/site-packages/spacy/__init__.py:14\u001b[0m\n\u001b[1;32m     11\u001b[0m \u001b[38;5;28;01mfrom\u001b[39;00m \u001b[38;5;21;01mthinc\u001b[39;00m\u001b[38;5;21;01m.\u001b[39;00m\u001b[38;5;21;01mapi\u001b[39;00m \u001b[38;5;28;01mimport\u001b[39;00m prefer_gpu, require_gpu, require_cpu  \u001b[38;5;66;03m# noqa: F401\u001b[39;00m\n\u001b[1;32m     12\u001b[0m \u001b[38;5;28;01mfrom\u001b[39;00m \u001b[38;5;21;01mthinc\u001b[39;00m\u001b[38;5;21;01m.\u001b[39;00m\u001b[38;5;21;01mapi\u001b[39;00m \u001b[38;5;28;01mimport\u001b[39;00m Config\n\u001b[0;32m---> 14\u001b[0m \u001b[38;5;28;01mfrom\u001b[39;00m \u001b[38;5;21;01m.\u001b[39;00m \u001b[38;5;28;01mimport\u001b[39;00m pipeline  \u001b[38;5;66;03m# noqa: F401\u001b[39;00m\n\u001b[1;32m     15\u001b[0m \u001b[38;5;28;01mfrom\u001b[39;00m \u001b[38;5;21;01m.\u001b[39;00m\u001b[38;5;21;01mcli\u001b[39;00m\u001b[38;5;21;01m.\u001b[39;00m\u001b[38;5;21;01minfo\u001b[39;00m \u001b[38;5;28;01mimport\u001b[39;00m info  \u001b[38;5;66;03m# noqa: F401\u001b[39;00m\n\u001b[1;32m     16\u001b[0m \u001b[38;5;28;01mfrom\u001b[39;00m \u001b[38;5;21;01m.\u001b[39;00m\u001b[38;5;21;01mglossary\u001b[39;00m \u001b[38;5;28;01mimport\u001b[39;00m explain  \u001b[38;5;66;03m# noqa: F401\u001b[39;00m\n",
      "File \u001b[0;32m~/Desktop/sap-sam/venv_sapsam/lib/python3.8/site-packages/spacy/pipeline/__init__.py:1\u001b[0m\n\u001b[0;32m----> 1\u001b[0m \u001b[38;5;28;01mfrom\u001b[39;00m \u001b[38;5;21;01m.\u001b[39;00m\u001b[38;5;21;01mattributeruler\u001b[39;00m \u001b[38;5;28;01mimport\u001b[39;00m AttributeRuler\n\u001b[1;32m      2\u001b[0m \u001b[38;5;28;01mfrom\u001b[39;00m \u001b[38;5;21;01m.\u001b[39;00m\u001b[38;5;21;01mdep_parser\u001b[39;00m \u001b[38;5;28;01mimport\u001b[39;00m DependencyParser\n\u001b[1;32m      3\u001b[0m \u001b[38;5;28;01mfrom\u001b[39;00m \u001b[38;5;21;01m.\u001b[39;00m\u001b[38;5;21;01medit_tree_lemmatizer\u001b[39;00m \u001b[38;5;28;01mimport\u001b[39;00m EditTreeLemmatizer\n",
      "File \u001b[0;32m~/Desktop/sap-sam/venv_sapsam/lib/python3.8/site-packages/spacy/pipeline/attributeruler.py:6\u001b[0m\n\u001b[1;32m      3\u001b[0m \u001b[38;5;28;01mimport\u001b[39;00m \u001b[38;5;21;01msrsly\u001b[39;00m\n\u001b[1;32m      4\u001b[0m \u001b[38;5;28;01mfrom\u001b[39;00m \u001b[38;5;21;01mpathlib\u001b[39;00m \u001b[38;5;28;01mimport\u001b[39;00m Path\n\u001b[0;32m----> 6\u001b[0m \u001b[38;5;28;01mfrom\u001b[39;00m \u001b[38;5;21;01m.\u001b[39;00m\u001b[38;5;21;01mpipe\u001b[39;00m \u001b[38;5;28;01mimport\u001b[39;00m Pipe\n\u001b[1;32m      7\u001b[0m \u001b[38;5;28;01mfrom\u001b[39;00m \u001b[38;5;21;01m.\u001b[39;00m\u001b[38;5;21;01m.\u001b[39;00m\u001b[38;5;21;01merrors\u001b[39;00m \u001b[38;5;28;01mimport\u001b[39;00m Errors\n\u001b[1;32m      8\u001b[0m \u001b[38;5;28;01mfrom\u001b[39;00m \u001b[38;5;21;01m.\u001b[39;00m\u001b[38;5;21;01m.\u001b[39;00m\u001b[38;5;21;01mtraining\u001b[39;00m \u001b[38;5;28;01mimport\u001b[39;00m Example\n",
      "File \u001b[0;32m~/Desktop/sap-sam/venv_sapsam/lib/python3.8/site-packages/spacy/pipeline/pipe.pyx:1\u001b[0m, in \u001b[0;36minit spacy.pipeline.pipe\u001b[0;34m()\u001b[0m\n",
      "File \u001b[0;32m~/Desktop/sap-sam/venv_sapsam/lib/python3.8/site-packages/spacy/vocab.pyx:1\u001b[0m, in \u001b[0;36minit spacy.vocab\u001b[0;34m()\u001b[0m\n",
      "File \u001b[0;32m~/Desktop/sap-sam/venv_sapsam/lib/python3.8/site-packages/spacy/tokens/__init__.py:1\u001b[0m\n\u001b[0;32m----> 1\u001b[0m \u001b[38;5;28;01mfrom\u001b[39;00m \u001b[38;5;21;01m.\u001b[39;00m\u001b[38;5;21;01mdoc\u001b[39;00m \u001b[38;5;28;01mimport\u001b[39;00m Doc\n\u001b[1;32m      2\u001b[0m \u001b[38;5;28;01mfrom\u001b[39;00m \u001b[38;5;21;01m.\u001b[39;00m\u001b[38;5;21;01mtoken\u001b[39;00m \u001b[38;5;28;01mimport\u001b[39;00m Token\n\u001b[1;32m      3\u001b[0m \u001b[38;5;28;01mfrom\u001b[39;00m \u001b[38;5;21;01m.\u001b[39;00m\u001b[38;5;21;01mspan\u001b[39;00m \u001b[38;5;28;01mimport\u001b[39;00m Span\n",
      "File \u001b[0;32m~/Desktop/sap-sam/venv_sapsam/lib/python3.8/site-packages/spacy/tokens/doc.pyx:36\u001b[0m, in \u001b[0;36minit spacy.tokens.doc\u001b[0;34m()\u001b[0m\n",
      "File \u001b[0;32m~/Desktop/sap-sam/venv_sapsam/lib/python3.8/site-packages/spacy/schemas.py:222\u001b[0m\n\u001b[1;32m    216\u001b[0m UnderscoreValue \u001b[38;5;241m=\u001b[39m Union[\n\u001b[1;32m    217\u001b[0m     TokenPatternString, TokenPatternNumber, \u001b[38;5;28mstr\u001b[39m, \u001b[38;5;28mint\u001b[39m, \u001b[38;5;28mfloat\u001b[39m, \u001b[38;5;28mlist\u001b[39m, \u001b[38;5;28mbool\u001b[39m\n\u001b[1;32m    218\u001b[0m ]\n\u001b[1;32m    219\u001b[0m IobValue \u001b[38;5;241m=\u001b[39m Literal[\u001b[38;5;124m\"\u001b[39m\u001b[38;5;124m\"\u001b[39m, \u001b[38;5;124m\"\u001b[39m\u001b[38;5;124mI\u001b[39m\u001b[38;5;124m\"\u001b[39m, \u001b[38;5;124m\"\u001b[39m\u001b[38;5;124mO\u001b[39m\u001b[38;5;124m\"\u001b[39m, \u001b[38;5;124m\"\u001b[39m\u001b[38;5;124mB\u001b[39m\u001b[38;5;124m\"\u001b[39m, \u001b[38;5;241m0\u001b[39m, \u001b[38;5;241m1\u001b[39m, \u001b[38;5;241m2\u001b[39m, \u001b[38;5;241m3\u001b[39m]\n\u001b[0;32m--> 222\u001b[0m \u001b[38;5;28;01mclass\u001b[39;00m \u001b[38;5;21;01mTokenPattern\u001b[39;00m(BaseModel):\n\u001b[1;32m    223\u001b[0m     orth: Optional[StringValue] \u001b[38;5;241m=\u001b[39m \u001b[38;5;28;01mNone\u001b[39;00m\n\u001b[1;32m    224\u001b[0m     text: Optional[StringValue] \u001b[38;5;241m=\u001b[39m \u001b[38;5;28;01mNone\u001b[39;00m\n",
      "File \u001b[0;32m~/Desktop/sap-sam/venv_sapsam/lib/python3.8/site-packages/pydantic/main.py:205\u001b[0m, in \u001b[0;36mpydantic.main.ModelMetaclass.__new__\u001b[0;34m()\u001b[0m\n",
      "File \u001b[0;32m~/Desktop/sap-sam/venv_sapsam/lib/python3.8/site-packages/pydantic/fields.py:491\u001b[0m, in \u001b[0;36mpydantic.fields.ModelField.infer\u001b[0;34m()\u001b[0m\n",
      "File \u001b[0;32m~/Desktop/sap-sam/venv_sapsam/lib/python3.8/site-packages/pydantic/fields.py:421\u001b[0m, in \u001b[0;36mpydantic.fields.ModelField.__init__\u001b[0;34m()\u001b[0m\n",
      "File \u001b[0;32m~/Desktop/sap-sam/venv_sapsam/lib/python3.8/site-packages/pydantic/fields.py:537\u001b[0m, in \u001b[0;36mpydantic.fields.ModelField.prepare\u001b[0;34m()\u001b[0m\n",
      "File \u001b[0;32m~/Desktop/sap-sam/venv_sapsam/lib/python3.8/site-packages/pydantic/fields.py:634\u001b[0m, in \u001b[0;36mpydantic.fields.ModelField._type_analysis\u001b[0;34m()\u001b[0m\n",
      "File \u001b[0;32m~/Desktop/sap-sam/venv_sapsam/lib/python3.8/site-packages/pydantic/fields.py:641\u001b[0m, in \u001b[0;36mpydantic.fields.ModelField._type_analysis\u001b[0;34m()\u001b[0m\n",
      "File \u001b[0;32m/opt/homebrew/Cellar/python@3.8/3.8.18_1/Frameworks/Python.framework/Versions/3.8/lib/python3.8/typing.py:774\u001b[0m, in \u001b[0;36m_GenericAlias.__subclasscheck__\u001b[0;34m(self, cls)\u001b[0m\n\u001b[1;32m    772\u001b[0m \u001b[38;5;28;01mif\u001b[39;00m \u001b[38;5;28mself\u001b[39m\u001b[38;5;241m.\u001b[39m_special:\n\u001b[1;32m    773\u001b[0m     \u001b[38;5;28;01mif\u001b[39;00m \u001b[38;5;129;01mnot\u001b[39;00m \u001b[38;5;28misinstance\u001b[39m(\u001b[38;5;28mcls\u001b[39m, _GenericAlias):\n\u001b[0;32m--> 774\u001b[0m         \u001b[38;5;28;01mreturn\u001b[39;00m \u001b[38;5;28;43missubclass\u001b[39;49m\u001b[43m(\u001b[49m\u001b[38;5;28;43mcls\u001b[39;49m\u001b[43m,\u001b[49m\u001b[43m \u001b[49m\u001b[38;5;28;43mself\u001b[39;49m\u001b[38;5;241;43m.\u001b[39;49m\u001b[43m__origin__\u001b[49m\u001b[43m)\u001b[49m\n\u001b[1;32m    775\u001b[0m     \u001b[38;5;28;01mif\u001b[39;00m \u001b[38;5;28mcls\u001b[39m\u001b[38;5;241m.\u001b[39m_special:\n\u001b[1;32m    776\u001b[0m         \u001b[38;5;28;01mreturn\u001b[39;00m \u001b[38;5;28missubclass\u001b[39m(\u001b[38;5;28mcls\u001b[39m\u001b[38;5;241m.\u001b[39m__origin__, \u001b[38;5;28mself\u001b[39m\u001b[38;5;241m.\u001b[39m__origin__)\n",
      "\u001b[0;31mTypeError\u001b[0m: issubclass() arg 1 must be a class"
     ]
    }
   ],
   "source": [
    "import matplotlib.pyplot as plt\n",
    "import pandas as pd\n",
    "import numpy as np\n",
    "import toml\n",
    "#import os\n",
    "import re\n",
    "import json\n",
    "\n",
    "import seaborn as sns\n",
    "sns.set_style('whitegrid')\n",
    "sns.set_palette(sns.color_palette(\"colorblind\"))\n",
    "%matplotlib inline\n",
    "%config InlineBackend.figure_format = 'retina'\n",
    "\n",
    "from wordcloud import WordCloud\n",
    "from IPython.display import JSON\n",
    "from collections import Counter\n",
    "from tqdm import tqdm\n",
    "from pathlib import Path\n",
    "\n",
    "from sapsam import parser, constants, detector\n",
    "\n",
    "pd.set_option('display.max_rows', None, 'display.max_columns', None)"
   ]
  },
  {
   "cell_type": "code",
   "execution_count": null,
   "id": "01e9ae8c-0e31-47a0-b2ff-b6b8fd431ed6",
   "metadata": {},
   "outputs": [],
   "source": [
    "# mappings for namespaces and element types\n",
    "with open(constants.SRC_ROOT / 'mappings.json') as json_file:\n",
    "    mappings = json.load(json_file)"
   ]
  },
  {
   "cell_type": "markdown",
   "id": "e72bff47-185d-4b2d-b64c-7bd0d0d3d028",
   "metadata": {},
   "source": [
    "# Read Data"
   ]
  },
  {
   "cell_type": "markdown",
   "id": "f1fd1d6d-0929-48b9-9486-61d5a883bae5",
   "metadata": {},
   "source": [
    "Let's first read in the meta data of all models in the dataset."
   ]
  },
  {
   "cell_type": "code",
   "execution_count": null,
   "id": "92da838f-4077-4f71-8c46-e2b4c14f2464",
   "metadata": {},
   "outputs": [],
   "source": [
    "df_meta = parser.parse_model_metadata()\n",
    "df_meta.head()"
   ]
  },
  {
   "cell_type": "markdown",
   "id": "4e5ad033-c7e3-4840-a25b-458eb3ce67a0",
   "metadata": {},
   "source": [
    "# Filtering example processes"
   ]
  },
  {
   "cell_type": "markdown",
   "id": "34c1f2a7-eb64-4019-99b8-94136224fce1",
   "metadata": {},
   "source": [
    "The dataset includes the following vendor provided example processes."
   ]
  },
  {
   "cell_type": "code",
   "execution_count": null,
   "id": "83278ac3-0759-402f-95a2-dda92a4bb7fc",
   "metadata": {},
   "outputs": [],
   "source": [
    "import json\n",
    "with open(constants.SRC_ROOT / \"prefilled_example_processes.json\") as data_file:    \n",
    "    examples = json.load(data_file)"
   ]
  },
  {
   "cell_type": "markdown",
   "id": "209ee082-c51d-4bce-822c-c0a740b48511",
   "metadata": {},
   "source": [
    "Here is the list of all example processes names:"
   ]
  },
  {
   "cell_type": "code",
   "execution_count": null,
   "id": "4ff75afc-f431-4643-b22b-8ed69a66a62e",
   "metadata": {},
   "outputs": [],
   "source": [
    "example_names = []\n",
    "for batch in examples[\"example_processes\"]:\n",
    "    example_names.extend(batch[\"content\"])\n",
    "example_names = set(example_names)\n",
    "example_names"
   ]
  },
  {
   "cell_type": "markdown",
   "id": "c45f4c0a-11fb-4386-a82c-cdc5fe002a35",
   "metadata": {},
   "source": [
    "Now let's take a look at the number of examples processes in the dataset (note that we decide this based on the process name which is more of a rough estimate rather than an accurate number):"
   ]
  },
  {
   "cell_type": "code",
   "execution_count": null,
   "id": "05dc2fce-207d-4463-ad6b-4ab8f7d66b93",
   "metadata": {},
   "outputs": [],
   "source": [
    "df_meta_examples = df_meta[df_meta[\"name\"].isin(example_names)]\n",
    "len(df_meta_examples)"
   ]
  },
  {
   "cell_type": "markdown",
   "id": "e4e927dc-e179-4e5c-8d2f-fdb1c0fca2b0",
   "metadata": {},
   "source": [
    "This is the percentage of example process from the dataset:"
   ]
  },
  {
   "cell_type": "code",
   "execution_count": null,
   "id": "af45f619-e04f-44fe-960b-af476f4623e3",
   "metadata": {},
   "outputs": [],
   "source": [
    "len(df_meta_examples)/len(df_meta)"
   ]
  },
  {
   "cell_type": "markdown",
   "id": "4fb10495-e5e7-45bb-a554-3e2a07bf98ef",
   "metadata": {},
   "source": [
    "This is the number of models in the dataset without example processes (again, based on process names):"
   ]
  },
  {
   "cell_type": "code",
   "execution_count": null,
   "id": "f020c3b1-dbeb-40d0-b082-f2ac3d5c3ab8",
   "metadata": {},
   "outputs": [],
   "source": [
    "len(df_meta)-len(df_meta_examples)"
   ]
  },
  {
   "cell_type": "markdown",
   "id": "9774042c-f959-4124-803b-94c219370f7a",
   "metadata": {},
   "source": [
    "And the percentage of models in the dataset without example processes:"
   ]
  },
  {
   "cell_type": "code",
   "execution_count": null,
   "id": "c554b42a-aa24-4dea-a38f-f9d086b72d8b",
   "metadata": {},
   "outputs": [],
   "source": [
    "(len(df_meta)-len(df_meta_examples))/len(df_meta)"
   ]
  },
  {
   "cell_type": "markdown",
   "id": "d9104bda-c0d5-4688-acec-65c52843991f",
   "metadata": {},
   "source": [
    "We apply the filter to perform the analysis on the dataset without examples processes:"
   ]
  },
  {
   "cell_type": "code",
   "execution_count": null,
   "id": "9ddad409-74c4-4cc1-9b8d-d2bcc46dc1b2",
   "metadata": {},
   "outputs": [],
   "source": [
    "df_meta = df_meta[~df_meta[\"name\"].isin(example_names)]\n",
    "len(df_meta)"
   ]
  },
  {
   "cell_type": "markdown",
   "id": "ed5d62bd-29cc-434a-84cc-29bb912bc720",
   "metadata": {},
   "source": [
    "We see that the size of the dataset now matches the previous calculation of the number of models without example processes."
   ]
  },
  {
   "cell_type": "markdown",
   "id": "1d728477-96c8-4c9a-a27f-098cbf13f7e3",
   "metadata": {},
   "source": [
    "# Modeling notations"
   ]
  },
  {
   "cell_type": "markdown",
   "id": "9098f433-2175-4642-bcd8-a266baf2f6ee",
   "metadata": {},
   "source": [
    "We want to examine the usage of modeling notations in the dataset.\n",
    "\n",
    "Let's start with counting the number of models in different modeling notations."
   ]
  },
  {
   "cell_type": "code",
   "execution_count": null,
   "id": "b9de15ad-e3db-4592-9639-4c6284fe1626",
   "metadata": {},
   "outputs": [],
   "source": [
    "df_notations = pd.DataFrame.from_dict(dict(Counter(df_meta[\"namespace\"])),orient = \"index\")\n",
    "df_notations.reset_index(inplace=True)\n",
    "df_notations.columns = [\"Notation\",\"Frequency\"]\n",
    "df_notations.sort_values(by=['Frequency'], ascending=False, inplace=True, ignore_index=True)\n",
    "df_notations"
   ]
  },
  {
   "cell_type": "markdown",
   "id": "043bbcd8-6530-4452-869c-01e27f2f5f38",
   "metadata": {},
   "source": [
    "We map the namespaces to the common names for the modeling notations."
   ]
  },
  {
   "cell_type": "code",
   "execution_count": null,
   "id": "e075b91b-f6a2-4b76-99e1-880f79781b92",
   "metadata": {},
   "outputs": [],
   "source": [
    "d_namespaces = mappings[\"namespaces\"]\n",
    "d_namespaces_reverse = {}\n",
    "for k,v in d_namespaces.items():\n",
    "    d_namespaces_reverse[v]=k\n",
    "df_notations = df_notations.replace({'Notation' : d_namespaces})\n",
    "df_notations"
   ]
  },
  {
   "cell_type": "markdown",
   "id": "293d2414-a787-4698-9c7d-28b06d068fd0",
   "metadata": {},
   "source": [
    "And we aggregate modeling notations which are used for less than 100 models in \"Other\"."
   ]
  },
  {
   "cell_type": "code",
   "execution_count": null,
   "id": "b67e69bc-e4f4-445f-a374-6cc3b1e54556",
   "metadata": {},
   "outputs": [],
   "source": [
    "other_dict={\n",
    " 'Process Documentation Template':'Other',\n",
    " 'jBPM 4':'Other',\n",
    " 'XForms':'Other',\n",
    " 'Chen Notation':'Other'\n",
    "}\n",
    "last_x = len(other_dict)\n",
    "df_notations_upper = df_notations.iloc[:-last_x,:]\n",
    "df_notations_other = df_notations.iloc[len(df_notations)-last_x:,:].replace({'Notation': other_dict}).groupby('Notation').sum().reset_index()\n",
    "df_notations=pd.concat([df_notations_upper,df_notations_other],ignore_index=True)\n",
    "df_notations.tail()"
   ]
  },
  {
   "cell_type": "markdown",
   "id": "01b43a1f-807e-486d-80b0-50272d32500f",
   "metadata": {},
   "source": [
    "Now we visualize the number of models in different modeling notations."
   ]
  },
  {
   "cell_type": "code",
   "execution_count": null,
   "id": "f51f9dbd-cdff-4ee5-907b-71a14c03d71e",
   "metadata": {},
   "outputs": [],
   "source": [
    "plt.figure(figsize=(10,8))\n",
    "plt.rcParams.update({'font.size': 16})\n",
    "ax=sns.barplot(x=\"Frequency\", y=\"Notation\", data=df_notations, estimator = np.max,ci = 0, palette = sns.color_palette(\"colorblind\"))\n",
    "# ax=sns.barplot(x=\"Frequency\", y=\"Notation\", hue=\"Notation\", data=df_notations, estimator = np.max, errorbar=('ci', 0), legend=False)\n",
    "sns.despine()\n",
    "ax.bar_label(ax.containers[0], label_type='edge', padding=1, labels=[f'{val} ({val/ len(df_meta) * 100.0:.2f} %)' for val in df_notations[\"Frequency\"]])\n",
    "ax.set_xlabel('No. of Models (Percentage)', fontsize=18)\n",
    "ax.set_ylabel('Notation', fontsize=18)\n",
    "# ax.set_xlim(0,700000)\n",
    "plt.savefig(constants.FIGURES_ROOT / 'notations.pdf',transparent=True,bbox_inches = 'tight')\n",
    "plt.show()"
   ]
  },
  {
   "cell_type": "markdown",
   "id": "020e432e-4db6-40f9-a753-1c1516954667",
   "metadata": {},
   "source": [
    "By using the datetime column, we can also consider the creation of models in different notations over time."
   ]
  },
  {
   "cell_type": "code",
   "execution_count": null,
   "id": "45c658e7-a55f-4c7f-bedd-bbdb3b0766f4",
   "metadata": {},
   "outputs": [],
   "source": [
    "df_meta.datetime = pd.to_datetime(df_meta.datetime)"
   ]
  },
  {
   "cell_type": "markdown",
   "id": "f4c84c11-6e72-4351-bb97-2e295b1f5037",
   "metadata": {},
   "source": [
    "These are the first and the last created models in the dataset:"
   ]
  },
  {
   "cell_type": "code",
   "execution_count": null,
   "id": "24a40c54-236c-4c54-b051-338af30454ed",
   "metadata": {},
   "outputs": [],
   "source": [
    "df_meta.sort_values('datetime').head(1)"
   ]
  },
  {
   "cell_type": "code",
   "execution_count": null,
   "id": "a9f0ff86-6301-43f1-9d11-8ed455d006a1",
   "metadata": {},
   "outputs": [],
   "source": [
    "df_meta.sort_values('datetime').tail(1)"
   ]
  },
  {
   "cell_type": "markdown",
   "id": "93ec5f24-1dd3-4b9c-bf6d-85a7c65d9da9",
   "metadata": {},
   "source": [
    "Let's check the creation of models over time for the five most used notations."
   ]
  },
  {
   "cell_type": "code",
   "execution_count": null,
   "id": "5bdbd95b-1c7f-4d3f-a086-7000f7861882",
   "metadata": {},
   "outputs": [],
   "source": [
    "selected_notations = [d_namespaces_reverse[i] for i in df_notations.Notation.values[:5]]\n",
    "df_meta_selected = df_meta[df_meta.namespace.isin(selected_notations) ].copy()\n",
    "df_meta_selected['Count']= 1\n",
    "df_meta_selected=df_meta_selected[['datetime','Count','namespace']].sort_values('datetime')\n",
    "df_meta_selected.set_index('datetime', inplace=True)"
   ]
  },
  {
   "cell_type": "markdown",
   "id": "007d5ca1-d1ce-4cd0-8b5d-1a019eae5cab",
   "metadata": {},
   "source": [
    "We count the number of models created per year."
   ]
  },
  {
   "cell_type": "code",
   "execution_count": null,
   "id": "df78507c-d32a-4bbe-a9f5-f56984ab4f30",
   "metadata": {},
   "outputs": [],
   "source": [
    "df_meta_selected=df_meta_selected.groupby('namespace').resample('Y').sum().reset_index()\n",
    "df_meta_selected['Year']= df_meta_selected['datetime'].apply(lambda x:x.year)\n",
    "df_meta_selected = df_meta_selected.replace({'namespace' : d_namespaces})\n",
    "df_meta_selected"
   ]
  },
  {
   "cell_type": "markdown",
   "id": "ea8674e6-3796-45e1-bc4b-d1a4e199b73d",
   "metadata": {},
   "source": [
    "Since the number of models created before 2015 in the dataset is rather small, we visualize the numbers starting in 2015. Also, the dataset only contains models until September 2021, so we exclude 2021, too."
   ]
  },
  {
   "cell_type": "code",
   "execution_count": null,
   "id": "31f3fdd2-ac57-44d2-83a9-5a6f2ef73a38",
   "metadata": {},
   "outputs": [],
   "source": [
    "sum(df_meta['datetime'].apply(lambda x: x.year)<2015)"
   ]
  },
  {
   "cell_type": "code",
   "execution_count": null,
   "id": "a666790a-fce7-4dbb-a3a4-465541300af3",
   "metadata": {},
   "outputs": [],
   "source": [
    "df_meta_selected=df_meta_selected[df_meta_selected['Year']>=2015]\n",
    "df_meta_selected=df_meta_selected[df_meta_selected['Year']<2021]\n",
    "df_meta_selected.head()"
   ]
  },
  {
   "cell_type": "code",
   "execution_count": null,
   "id": "d558ff05-5660-436e-b118-45f22cbe8266",
   "metadata": {},
   "outputs": [],
   "source": [
    "def change_width(ax, new_value) :\n",
    "    for patch in ax.patches :\n",
    "        current_width = patch.get_width()\n",
    "        diff = current_width - new_value\n",
    "\n",
    "        # we change the bar width\n",
    "        patch.set_width(new_value)\n",
    "\n",
    "        # we recenter the bar\n",
    "        patch.set_x(patch.get_x() + diff * .5)"
   ]
  },
  {
   "cell_type": "code",
   "execution_count": null,
   "id": "a802b95c-a66a-4d6c-a72b-4ae61bbee91d",
   "metadata": {},
   "outputs": [],
   "source": [
    "plt.figure(figsize=(20,10))\n",
    "fig, ax = plt.subplots(figsize=(10,7))\n",
    "sns.barplot(data=df_meta_selected,x='Year', y='Count', hue='namespace',ax=ax,palette=sns.color_palette(\"colorblind\"))\n",
    "plt.legend(title='', loc='upper left')\n",
    "change_width(ax, .15)\n",
    "for container in ax.containers:\n",
    "    ax.bar_label(container, padding = 6, rotation='vertical')\n",
    "ax.set_xlabel('Year',fontsize=18)\n",
    "ax.set_ylabel('No. of Created Models',fontsize=18)\n",
    "sns.despine()"
   ]
  },
  {
   "cell_type": "markdown",
   "id": "8d6f683d-7965-42f8-84f0-e6f63e6b54ea",
   "metadata": {},
   "source": [
    "We can also visualize this as stacked plot."
   ]
  },
  {
   "cell_type": "code",
   "execution_count": null,
   "id": "eac8b886-2833-40e3-8858-deb040f0c652",
   "metadata": {},
   "outputs": [],
   "source": [
    "selected_notations_short = [d_namespaces[n] for n in selected_notations]\n",
    "d_stacked = dict()\n",
    "for n in selected_notations_short:\n",
    "    d_stacked[n] = df_meta_selected[df_meta_selected[\"namespace\"]==n][\"Count\"].values\n",
    "df_stacked = pd.DataFrame(d_stacked,index=df_meta_selected.Year.unique())\n",
    "df_stacked.sort_index(ascending=False,inplace=True)\n",
    "df_stacked"
   ]
  },
  {
   "cell_type": "code",
   "execution_count": null,
   "id": "b484d285-28d8-4209-a9c9-143e5dde2808",
   "metadata": {},
   "outputs": [],
   "source": [
    "plt.rcParams.update({'font.size': 10})\n",
    "ax = df_stacked.plot(kind='barh', stacked=True,figsize=(9,2.5))\n",
    "ax.spines['right'].set_visible(False)\n",
    "ax.spines['top'].set_visible(False)\n",
    "ax.set_xlabel(\"No. of Models\",fontsize=12)\n",
    "ax.set_ylabel(\"Year\",fontsize=12)\n",
    "plt.savefig(constants.FIGURES_ROOT / 'notations_over_time.pdf',transparent=True,bbox_inches = 'tight')\n",
    "plt.show()"
   ]
  },
  {
   "cell_type": "markdown",
   "id": "81622445-a111-4b7c-93bf-46319379224f",
   "metadata": {},
   "source": [
    "# Parse BPMN 2.0 models"
   ]
  },
  {
   "cell_type": "markdown",
   "id": "14ef503a-f6e5-4829-bb47-f6bb57729509",
   "metadata": {},
   "source": [
    "For further analysis, we concentrate on BPMN 2.0 models as primary used notation."
   ]
  },
  {
   "cell_type": "code",
   "execution_count": null,
   "id": "9bc2ddee-b18c-4e72-acc7-52e8ddc5a2d1",
   "metadata": {},
   "outputs": [],
   "source": [
    "df_meta_bpmn = df_meta[df_meta.namespace == constants.BPMN2_NAMESPACE]"
   ]
  },
  {
   "cell_type": "markdown",
   "id": "2e6ba253-f19d-4a27-8847-aeacf1a7746c",
   "metadata": {},
   "source": [
    "Number of BPMN 2.0 models:"
   ]
  },
  {
   "cell_type": "code",
   "execution_count": null,
   "id": "87cd57f8-801d-43b7-987d-489e5028bb5c",
   "metadata": {},
   "outputs": [],
   "source": [
    "len(df_meta_bpmn)"
   ]
  },
  {
   "cell_type": "markdown",
   "id": "7e8db549-7c9c-47bd-b591-4428de91f43c",
   "metadata": {},
   "source": [
    "We use the BPMNModelParser to parse the BPMN 2.0 models. In case, we have already parsed them, we load the parsed data from the pkl file."
   ]
  },
  {
   "cell_type": "code",
   "execution_count": null,
   "id": "3c1c668d-cee1-4cf3-911f-5474b3e8d20c",
   "metadata": {},
   "outputs": [],
   "source": [
    "p = parser.BpmnModelParser() # comment this line if you have already created the pkl file\n",
    "df_bpmn = p.parse_model_elements() # comment this line if you have already created the pkl file\n",
    "df_bpmn.to_pickle(constants.DATA_INTERIM / \"bpmn_elements.pkl\") # comment this line if you have already created the pkl file\n",
    "# df_bpmn = pd.read_pickle(constants.DATA_INTERIM / \"bpmn_elements.pkl\") # uncomment this line if you have already created the pkl file\n",
    "df_bpmn.head()"
   ]
  },
  {
   "cell_type": "markdown",
   "id": "0dece2bd-7ed0-477c-9dee-243406e9d48d",
   "metadata": {},
   "source": [
    "Number of BPMN 2.0 models from the parser:"
   ]
  },
  {
   "cell_type": "code",
   "execution_count": null,
   "id": "06188d79-3772-4a1c-86e4-ac4674bd3e76",
   "metadata": {},
   "outputs": [],
   "source": [
    "index = df_bpmn.index.get_level_values('model_id')\n",
    "index.nunique()"
   ]
  },
  {
   "cell_type": "markdown",
   "id": "7afbf2ae-514c-45a9-b5b7-bb6bff0cadc4",
   "metadata": {},
   "source": [
    "The difference in the number of BPMN 2.0 models shows that there are some empty BPMN 2.0 models in the dataset which do not contain any elements. "
   ]
  },
  {
   "cell_type": "markdown",
   "id": "c7d254e5-11f0-47a5-8b05-7db68bb8c8bd",
   "metadata": {},
   "source": [
    "The total number of elements of all BPMN 2.0 models is:"
   ]
  },
  {
   "cell_type": "code",
   "execution_count": null,
   "id": "ccf0008e-5fe2-4d34-a91f-575e7351a080",
   "metadata": {},
   "outputs": [],
   "source": [
    "len(df_bpmn)"
   ]
  },
  {
   "cell_type": "markdown",
   "id": "24795147-d026-4cf4-bf2f-7ce36d9190d2",
   "metadata": {},
   "source": [
    "# Languages"
   ]
  },
  {
   "cell_type": "markdown",
   "id": "0271643b-02d5-4a4b-9f83-11446877c0eb",
   "metadata": {},
   "source": [
    "We use spaCy to detect the language of a model. More specifically, we use a model's element labels to decide on its language."
   ]
  },
  {
   "cell_type": "code",
   "execution_count": null,
   "id": "297046b6-a1e9-490e-b5c9-a3a59eb6cc28",
   "metadata": {},
   "outputs": [],
   "source": [
    "try:\n",
    "    nlp = spacy.load(\"en_core_web_sm\")\n",
    "    print(\"Package already installed\")\n",
    "except:\n",
    "    print(\"Installing package...\")\n",
    "    !python -m spacy download en_core_web_sm > /dev/null\n",
    "    print(\"\\033[92m\\u2713 Download and installation successful\\033[0m\")"
   ]
  },
  {
   "cell_type": "code",
   "execution_count": null,
   "id": "4d588ff4-cbbc-42fc-bc37-607265399ff7",
   "metadata": {},
   "outputs": [],
   "source": [
    "ld = detector.ModelLanguageDetector(0.8) # comment this line if you have already created the pkl file\n",
    "df_language = ld.get_detected_natural_language_from_bpmn_model(df_bpmn) # comment this line if you have already created the pkl file\n",
    "df_language.to_pickle(constants.DATA_INTERIM / \"bpmn_languages.pkl\") # comment this line if you have already created the pkl file\n",
    "# df_language = pd.read_pickle(constants.DATA_INTERIM / \"bpmn_languages.pkl\") # uncomment this line if you have already created the pkl file\n",
    "df_language.head()"
   ]
  },
  {
   "cell_type": "markdown",
   "id": "a941a1a5-5335-4804-8d18-8534f0473dfb",
   "metadata": {},
   "source": [
    "Let's plot the use of different languages across the dataset."
   ]
  },
  {
   "cell_type": "code",
   "execution_count": null,
   "id": "aca2c47f-dfde-4515-93d0-8e0e39955108",
   "metadata": {},
   "outputs": [],
   "source": [
    "from langcodes import *\n",
    "def get_language_from_code(code):\n",
    "    return Language.make(language=code).display_name()"
   ]
  },
  {
   "cell_type": "code",
   "execution_count": null,
   "id": "6c2aa7ba-ea6c-4cde-a07b-771c7836a28e",
   "metadata": {},
   "outputs": [],
   "source": [
    "d_lang =  dict(Counter(df_language[\"detected_natural_language\"]))\n",
    "df_lang = pd.DataFrame.from_dict(d_lang,orient=\"index\")\n",
    "df_lang = df_lang.reset_index().rename(columns={\"index\": \"Language\",0: \"No. of Models\"})\n",
    "df_lang[\"Language\"] = df_lang[\"Language\"].apply(lambda x: get_language_from_code(x))\n",
    "df_lang.sort_values(\"No. of Models\",ascending=False,inplace=True)\n",
    "df_lang.reset_index(inplace=True)\n",
    "df_lang.drop(\"index\",inplace=True,axis=1)\n",
    "df_lang"
   ]
  },
  {
   "cell_type": "markdown",
   "id": "0fe92e9b-5c78-4753-a49b-e38f2c79dbf5",
   "metadata": {},
   "source": [
    "We only plot the 10 most common languages."
   ]
  },
  {
   "cell_type": "code",
   "execution_count": null,
   "id": "3d8c7a22-417d-4d42-9350-e23f73e0a556",
   "metadata": {},
   "outputs": [],
   "source": [
    "nr_most_common = 10\n",
    "total = df_lang['No. of Models'].sum()\n",
    "df_lang = df_lang.iloc[:10]\n",
    "plt.figure(figsize=(10,4))\n",
    "plt.rcParams.update({'font.size': 14})\n",
    "ax = sns.barplot(x=\"No. of Models\", y=\"Language\", data=df_lang,palette=sns.color_palette(\"colorblind\"))\n",
    "ax.bar_label(ax.containers[0],label_type='edge', padding=4, labels=[f'{val} ({val/ total * 100.0:.2f} %)' for val in df_lang['No. of Models']])\n",
    "ax.set_xlabel(\"No. of Models (Percentage)\",fontsize=16)\n",
    "ax.set_ylabel(\"Language\",fontsize=16)\n",
    "sns.despine()\n",
    "plt.savefig(constants.FIGURES_ROOT / 'languages.pdf',transparent=True,bbox_inches = 'tight')"
   ]
  },
  {
   "cell_type": "markdown",
   "id": "396b54f0-c4fc-4735-b37b-e656cc2d4198",
   "metadata": {},
   "source": [
    "# Element types "
   ]
  },
  {
   "cell_type": "markdown",
   "id": "0090846a-05ef-4182-90b1-ead38df5b02a",
   "metadata": {},
   "source": [
    "Now we want to examine the usage of element types in the BPMN models."
   ]
  },
  {
   "cell_type": "code",
   "execution_count": null,
   "id": "6a03f05a-bb08-4b7b-950d-81a0613cc3cf",
   "metadata": {},
   "outputs": [],
   "source": [
    "def get_element_count(df_model):\n",
    "    cnts = dict(Counter(df_model[\"category\"].values))\n",
    "    cnts[\"total_count\"] = sum(cnts.values())\n",
    "    return cnts"
   ]
  },
  {
   "cell_type": "code",
   "execution_count": null,
   "id": "6a1d5bdb-d64e-4152-be9c-30123b2c1338",
   "metadata": {},
   "outputs": [],
   "source": [
    "cnt_elements = pd.DataFrame.from_records(get_element_count(df_bpmn.loc[s]) for s in tqdm(df_bpmn.index.unique(\"model_id\"))).fillna(0, downcast=\"infer\") # comment this line if you have already created the pkl file\n",
    "cnt_elements.to_pickle(constants.DATA_INTERIM / \"bpmn_cnt_elements.pkl\") # comment this line if you have already created the pkl file\n",
    "# cnt_elements = pd.read_pickle(constants.DATA_INTERIM / \"bpmn_cnt_elements.pkl\") # uncomment this line if you have already created the pkl file\n",
    "cnt_elements.head()"
   ]
  },
  {
   "cell_type": "markdown",
   "id": "4f2911c6-ffe8-43bb-9a2f-c83f2b12ff78",
   "metadata": {},
   "source": [
    "These are the statistics of the different element types per model:"
   ]
  },
  {
   "cell_type": "code",
   "execution_count": null,
   "id": "c02e3cc7-0000-40c8-8bac-6b37f3217010",
   "metadata": {},
   "outputs": [],
   "source": [
    "# print(cnt_elements.columns)\n",
    "# cnt_elements.drop(columns=[\"total_count\",\"gdottedline\",\"gdashedline\",\"gtext\",\"gellipse\",\"gdiamond\",\"grect\"]).select_dtypes(np.number).gt(0).sum(axis=1).describe()\n",
    "cnt_elements.drop(columns=[\"total_count\"]).select_dtypes(np.number).gt(0).sum(axis=1).describe()"
   ]
  },
  {
   "cell_type": "markdown",
   "id": "b4213be0-b34b-49fa-9be6-33e98f5798d6",
   "metadata": {},
   "source": [
    "Thus, on average, a BPMN 2.0 model contains 11.3 different element types (median: 11)."
   ]
  },
  {
   "cell_type": "markdown",
   "id": "a7dd58b3-470c-401a-98b9-292d92940d16",
   "metadata": {},
   "source": [
    "We can also investigate the number of models that contain at least one instance of a particular element type. This gives us an indication of which element types are most important in practice."
   ]
  },
  {
   "cell_type": "code",
   "execution_count": null,
   "id": "ac999984-7da3-43e0-b067-4b4147111043",
   "metadata": {},
   "outputs": [],
   "source": [
    "df_cnts = (\n",
    "    df_bpmn.groupby(\"model_id\").category\n",
    "    .value_counts()\n",
    "    .to_frame(\"count\")\n",
    "    .unstack()\n",
    "    .droplevel(0, axis='columns') # drop first level column level \"count\" that unstack produces\n",
    "    .fillna(0, downcast=\"infer\")\n",
    ")\n",
    "df_cnts.head()"
   ]
  },
  {
   "cell_type": "code",
   "execution_count": null,
   "id": "784d2026-d262-463b-b068-b95d35e631b2",
   "metadata": {},
   "outputs": [],
   "source": [
    "# df_cnts.drop([\"gdashedline\",\"gdiamond\",\"gdottedline\",\"gellipse\",\"grect\",\"gtext\"],axis=1,inplace=True)"
   ]
  },
  {
   "cell_type": "code",
   "execution_count": null,
   "id": "6707ac17-91dd-402c-96b7-39a7278bf0d4",
   "metadata": {},
   "outputs": [],
   "source": [
    "df_freq = (\n",
    "    df_cnts\n",
    "    .gt(0)\n",
    "    .sum()\n",
    "    #.div(len(df_cnts))\n",
    "    .sort_values(ascending=False)\n",
    "    .to_frame(\"frequency\")\n",
    "    .reset_index()\n",
    "    .rename(columns={\"index\":\"category\"})\n",
    ")\n",
    "len(df_freq[df_freq[\"frequency\"]/len(df_cnts) < 0.1])"
   ]
  },
  {
   "cell_type": "code",
   "execution_count": null,
   "id": "0260bb40-7f07-4606-9879-0ae9e05d2500",
   "metadata": {},
   "outputs": [],
   "source": [
    "df_freq = df_freq[df_freq[\"frequency\"]/len(df_cnts) >= 0.1]\n",
    "from stringcase import sentencecase\n",
    "df_freq[\"category\"] = df_freq[\"category\"].apply(lambda x: sentencecase(x)).replace({\"I t system\": \"IT system\"})\n",
    "df_freq[\"category\"] = df_freq[\"category\"].apply(lambda x: x.strip())\n",
    "df_freq.head()"
   ]
  },
  {
   "cell_type": "code",
   "execution_count": null,
   "id": "0381bc2a-a933-45b9-94c7-a3e952b62d21",
   "metadata": {},
   "outputs": [],
   "source": [
    "plt.figure(figsize=(10,13)) # 10,13\n",
    "plt.rcParams.update({'font.size': 20}) # 22\n",
    "ax = sns.barplot(x=\"frequency\", y=\"category\", data=df_freq, order=df_freq.sort_values('frequency',ascending=False).category,palette=sns.color_palette(\"colorblind\"));\n",
    "total = len(df_cnts)\n",
    "ax.bar_label(ax.containers[0],label_type='edge', padding=4, labels=[f'{val} ({val/ total * 100.0:.2f} %)' for val in df_freq['frequency']])\n",
    "sns.despine()\n",
    "ax.set_xlabel(\"No. of Models (Percentage)\",fontsize=22)\n",
    "ax.set_ylabel(\"Element Type\",fontsize=22)\n",
    "plt.savefig(constants.FIGURES_ROOT / 'elements_usage.pdf',transparent=True,bbox_inches = 'tight')"
   ]
  },
  {
   "cell_type": "markdown",
   "id": "38b365aa-e955-4cdd-9146-c2dcc737432e",
   "metadata": {},
   "source": [
    "# Elements"
   ]
  },
  {
   "cell_type": "markdown",
   "id": "021cfc04-2cd6-42d8-ada2-99ddc5b6d0d4",
   "metadata": {},
   "source": [
    "These are the statistics of the number of elements per model:"
   ]
  },
  {
   "cell_type": "code",
   "execution_count": null,
   "id": "e27f9a5f-0719-4de1-9aee-03b6f06a70cc",
   "metadata": {},
   "outputs": [],
   "source": [
    "cnt_elements.total_count.describe()"
   ]
  },
  {
   "cell_type": "markdown",
   "id": "3760cbef-495b-4213-907f-6cf3c50f1fc1",
   "metadata": {},
   "source": [
    "These are the statistics of the number of elements per model by element type:"
   ]
  },
  {
   "cell_type": "code",
   "execution_count": null,
   "id": "dc0d649d-7a6d-49c5-9c40-6a016763698e",
   "metadata": {},
   "outputs": [],
   "source": [
    "cnt_elements.describe().transpose()"
   ]
  },
  {
   "cell_type": "markdown",
   "id": "d9aec996-602f-4747-b94e-c815cb7b85f9",
   "metadata": {},
   "source": [
    "The above table is quite large, therefore we summarize it by aggregating the element types to groups and categories as given by the Signavio BPMN 2.0 stencil set specification."
   ]
  },
  {
   "cell_type": "code",
   "execution_count": null,
   "id": "d42d3429-1a20-47e7-97e5-8fda7803242f",
   "metadata": {},
   "outputs": [],
   "source": [
    "d_low_level_mapping = mappings[\"element_type_low_level\"] # groups\n",
    "d_high_level_mapping = mappings[\"element_type_high_level\"] # categories"
   ]
  },
  {
   "cell_type": "markdown",
   "id": "8bfbac04-db3c-4395-9c3f-f97a8b38fd38",
   "metadata": {},
   "source": [
    "Let's first have a look at the lower level aggregation (groups of similar element types):"
   ]
  },
  {
   "cell_type": "code",
   "execution_count": null,
   "id": "42e35044-975d-40a8-8eab-22c9183ef1da",
   "metadata": {},
   "outputs": [],
   "source": [
    "df_low_level = cnt_elements.groupby(by=d_low_level_mapping,axis=1).sum()\n",
    "df_stats = df_low_level.describe().transpose()\n",
    "df_stats.head()"
   ]
  },
  {
   "cell_type": "code",
   "execution_count": null,
   "id": "3f08031b-e05e-4307-9719-c6241e4cf6f2",
   "metadata": {},
   "outputs": [],
   "source": [
    "df_stats.drop(columns=[\"count\"],inplace=True)\n",
    "df_stats = df_stats.round(1)\n",
    "df_stats"
   ]
  },
  {
   "cell_type": "code",
   "execution_count": null,
   "id": "bdcce2c1-7b9c-428e-9980-2b7ed90ffdbc",
   "metadata": {},
   "outputs": [],
   "source": [
    "plt.figure(figsize=(15,8))\n",
    "df_low_level[\"id\"] = df_low_level.index\n",
    "df_low_level_long = pd.melt(df_low_level, id_vars='id', value_vars=['Activities', 'Artifacts', 'Connecting Objects', 'Data Elements', 'Events', 'Gateways', 'Swimlanes'])\n",
    "ax=sns.boxplot(x=\"variable\", y=\"value\", data=df_low_level_long,showfliers=False,palette=sns.color_palette(\"colorblind\"))\n",
    "ax.set_xticklabels(ax.get_xticklabels(),rotation=30)\n",
    "sns.despine()"
   ]
  },
  {
   "cell_type": "markdown",
   "id": "694b7bff-68fb-4a05-b1de-0790bca64012",
   "metadata": {},
   "source": [
    "Now, let's also have a look at a higher level aggregation (categories: nodes and edges)."
   ]
  },
  {
   "cell_type": "code",
   "execution_count": null,
   "id": "159155e5-d04f-4cef-a96a-1e0b4dd8f5c4",
   "metadata": {},
   "outputs": [],
   "source": [
    "df_high_level = cnt_elements.groupby(by=d_high_level_mapping,axis=1).sum()\n",
    "df_high_level.rename(columns={\"edge\": \"No. of Edges\", \"node\": \"No. of Nodes\"},inplace=True)\n",
    "df_high_level.describe().transpose()"
   ]
  },
  {
   "cell_type": "code",
   "execution_count": null,
   "id": "7f25517c-a0d5-4416-868f-e145b664ba3e",
   "metadata": {},
   "outputs": [],
   "source": [
    "df_high_level.head()"
   ]
  },
  {
   "cell_type": "markdown",
   "id": "671b5d9f-a595-4c98-9a0c-b3ef55f4d314",
   "metadata": {},
   "source": [
    "The number of nodes and edges is naturally highly correlated:"
   ]
  },
  {
   "cell_type": "code",
   "execution_count": null,
   "id": "ec4d5e1c-f4fc-49a7-afbf-cc581c6b1822",
   "metadata": {},
   "outputs": [],
   "source": [
    "plt.figure(figsize=(5,5))\n",
    "plt.rcParams.update({'font.size': 14,'axes.labelsize': 16})\n",
    "ax = sns.relplot(data=df_high_level.astype(float), x = \"No. of Edges\", y = \"No. of Nodes\",color=sns.color_palette(\"colorblind\",as_cmap=True)[0])\n",
    "sns.despine()\n",
    "plt.savefig(constants.FIGURES_ROOT / 'correl_plot.png',transparent=True,bbox_inches = 'tight',dpi=300)"
   ]
  },
  {
   "cell_type": "markdown",
   "id": "af22152d-3f1a-4c37-9c89-c95fc400729f",
   "metadata": {},
   "source": [
    "# Process names "
   ]
  },
  {
   "cell_type": "markdown",
   "id": "add5e8d2-8d55-4a51-8d44-31309b2796e4",
   "metadata": {},
   "source": [
    "Let's now have a look at the process names."
   ]
  },
  {
   "cell_type": "markdown",
   "id": "36434301-2a32-4ca3-bc8e-ace28435d284",
   "metadata": {},
   "source": [
    "A function for cleaning the names or labels (if required for the use case):"
   ]
  },
  {
   "cell_type": "code",
   "execution_count": null,
   "id": "8c14c9c4-3564-4fbf-a2a0-14e6fe6c8a5a",
   "metadata": {},
   "outputs": [],
   "source": [
    "def clean(label):\n",
    "    # handle some special cases\n",
    "    label = label.replace(\"\\n\", \" \").replace(\"\\r\", \"\")\n",
    "    label = label.replace(\"(s)\", \"s\")\n",
    "    # turn any non alphanumeric characters into whitespace\n",
    "    # label = re.sub(\"[^A-Za-z]\",\" \",label)\n",
    "    # delete unnecessary whitespaces\n",
    "    label = label.strip()\n",
    "    label = re.sub(\"\\s{1,}\",\" \",label)\n",
    "    # make all lower case\n",
    "    label = label.lower()\n",
    "    return label\n",
    "\n",
    "def alphanumeric(label):\n",
    "    return re.sub(\"[^A-Za-z]\",\" \",label)"
   ]
  },
  {
   "cell_type": "code",
   "execution_count": null,
   "id": "a1729141-e850-43d1-82ef-d1a6a89633a4",
   "metadata": {},
   "outputs": [],
   "source": [
    "cnts_names = dict(Counter(df_meta['name'].values))\n",
    "#cnts_names = dict(Counter(df_meta['name'].apply(lambda x: clean(str(x))).values))\n",
    "cnts_names = pd.DataFrame.from_dict(cnts_names.items())\n",
    "cnts_names.columns = ['name', 'occurrences']\n",
    "cnts_names = cnts_names.sort_values(by=['occurrences'],ignore_index=True,ascending=False)\n",
    "cnts_names.head(10)"
   ]
  },
  {
   "cell_type": "markdown",
   "id": "2d56655b-8047-4a9f-92aa-5bde52ab008f",
   "metadata": {},
   "source": [
    "The number of distinct process names:"
   ]
  },
  {
   "cell_type": "code",
   "execution_count": null,
   "id": "3ae2b577-eaf2-49a6-b5a4-be5bf74b7688",
   "metadata": {},
   "outputs": [],
   "source": [
    "len(cnts_names)"
   ]
  },
  {
   "cell_type": "markdown",
   "id": "79e21f74-860b-42c1-a436-f8f6e35ab4c3",
   "metadata": {},
   "source": [
    "We use Signavio's color palette for the word cloud."
   ]
  },
  {
   "cell_type": "code",
   "execution_count": null,
   "id": "2c6aeea7-2a3f-4127-be4c-c033703641d5",
   "metadata": {},
   "outputs": [],
   "source": [
    "import random\n",
    "colors = constants.COLORS_SIGNAVIO_HSL \n",
    "def color_func(word, font_size, position, orientation, random_state=None, **kwargs):\n",
    "    return random.choice(colors)"
   ]
  },
  {
   "cell_type": "code",
   "execution_count": null,
   "id": "123a4bb5-d00c-45df-928f-03527c1b4ddd",
   "metadata": {
    "scrolled": true
   },
   "outputs": [],
   "source": [
    "wordcloud_dict_names = dict(zip(cnts_names.name, cnts_names.occurrences))\n",
    "wordcloud = WordCloud(min_word_length=1,background_color='white',width=700, height=500)\n",
    "wordcloud = wordcloud.generate_from_frequencies(wordcloud_dict_names)\n",
    "plt.figure(figsize=(20,10))\n",
    "plt.imshow(wordcloud.recolor(color_func = color_func), interpolation='bilinear')\n",
    "plt.axis('off')\n",
    "plt.savefig(constants.FIGURES_ROOT / 'word_cloud_process_names.pdf',transparent=True,bbox_inches = 'tight')\n",
    "plt.show()"
   ]
  },
  {
   "cell_type": "markdown",
   "id": "38458cc0-d3bb-48b0-90b1-227d052a17ef",
   "metadata": {},
   "source": [
    "It seems like the word cloud is dominated by the process names of the examples processes that are added to each newly created workspace."
   ]
  },
  {
   "cell_type": "markdown",
   "id": "5a24b603-ab93-4f6d-8e9d-e939fbe6e87b",
   "metadata": {},
   "source": [
    "# Labels\n",
    "\n",
    "Let's also investigate element labels."
   ]
  },
  {
   "cell_type": "code",
   "execution_count": null,
   "id": "cacfc807-ef0d-4e89-a228-46e0ff9d73af",
   "metadata": {},
   "outputs": [],
   "source": [
    "# cnts_labels = dict(Counter(df_bpmn['label'].apply(lambda x: clean(str(x))).values))\n",
    "cnts_labels = dict(Counter(df_bpmn['label'].values))\n",
    "cnts_labels = pd.DataFrame.from_dict(cnts_labels.items())\n",
    "cnts_labels.columns = ['label', 'occurrences']\n",
    "cnts_labels = cnts_labels.sort_values(by=['occurrences'],ignore_index=True,ascending=False)\n",
    "cnts_labels = cnts_labels[~cnts_labels.label.isin([None,\"\"])]\n",
    "cnts_labels.reset_index(drop=True, inplace=True)\n",
    "cnts_labels.head(10)"
   ]
  },
  {
   "cell_type": "markdown",
   "id": "15c78d67-6d6a-475f-945d-78fc8750879c",
   "metadata": {},
   "source": [
    "The number of distinct element labels:"
   ]
  },
  {
   "cell_type": "code",
   "execution_count": null,
   "id": "4a9fca8c-911c-433c-b1fa-81cd6240707e",
   "metadata": {},
   "outputs": [],
   "source": [
    "len(cnts_labels)"
   ]
  },
  {
   "cell_type": "markdown",
   "id": "7a52e78f-e3e6-47ee-a606-e989e5007025",
   "metadata": {},
   "source": [
    "2.820.531 labels are used for the 28.293.762 elements in the BPMN models:"
   ]
  },
  {
   "cell_type": "code",
   "execution_count": null,
   "id": "afc7c7c2-9bb7-4878-9ef1-7b1a7f510e60",
   "metadata": {},
   "outputs": [],
   "source": [
    "len(df_bpmn)"
   ]
  },
  {
   "cell_type": "markdown",
   "id": "40863d7f-815c-4cb1-a3e5-f13308518072",
   "metadata": {},
   "source": [
    "10 % of the unique labels make up for more than 74.0 % of the element labels ..."
   ]
  },
  {
   "cell_type": "code",
   "execution_count": null,
   "id": "394ab162-1eaf-4a14-9bd7-7c40c951875c",
   "metadata": {},
   "outputs": [],
   "source": [
    "sum(cnts_labels.occurrences[:int(len(cnts_labels)*0.1)])/sum(cnts_labels.occurrences)"
   ]
  },
  {
   "cell_type": "markdown",
   "id": "5e48ef93-a49e-45b4-9ea2-375dbd3f686b",
   "metadata": {},
   "source": [
    "... while 64.9 % of the labels are used for only one element."
   ]
  },
  {
   "cell_type": "code",
   "execution_count": null,
   "id": "cd700285-9c88-4507-a7da-2e0995a82d41",
   "metadata": {
    "scrolled": true
   },
   "outputs": [],
   "source": [
    "len(cnts_labels[cnts_labels.occurrences==1])/len(cnts_labels)"
   ]
  },
  {
   "cell_type": "code",
   "execution_count": null,
   "id": "21586c7b-78b3-437b-8396-f37d2defec07",
   "metadata": {},
   "outputs": [],
   "source": [
    "len(cnts_labels[cnts_labels.occurrences==1])"
   ]
  },
  {
   "cell_type": "markdown",
   "id": "0859aaff-b898-4e07-b6fc-7768d5eff77b",
   "metadata": {},
   "source": [
    "Let's visualize the distribution of the label usage frequency in BPMN 2.0 models."
   ]
  },
  {
   "cell_type": "code",
   "execution_count": null,
   "id": "1d249a11-9209-4708-a3f9-130bbfd1aa3e",
   "metadata": {},
   "outputs": [],
   "source": [
    "bins = cnts_labels\n",
    "bins.head()"
   ]
  },
  {
   "cell_type": "markdown",
   "id": "9ec7e0c2-6bd4-4c51-8147-eb94b6e9a2fc",
   "metadata": {},
   "source": [
    "We sort the labels based on their absolute usage frequency in descending order and group them in bins of size 10,000 to visualize the unevenness of the distribution."
   ]
  },
  {
   "cell_type": "code",
   "execution_count": null,
   "id": "7ae9a94c-349c-4b20-be22-7b60c3ce4cb7",
   "metadata": {
    "scrolled": true
   },
   "outputs": [],
   "source": [
    "N = 10000\n",
    "bins = bins.groupby(bins.index // N).sum()"
   ]
  },
  {
   "cell_type": "code",
   "execution_count": null,
   "id": "80afdc8c-8136-4d14-aff1-4bb013b7598b",
   "metadata": {
    "scrolled": true
   },
   "outputs": [],
   "source": [
    "import math\n",
    "\n",
    "bins[\"bins of labels\"] = [N*i for i in range(1,math.ceil(len(cnts_labels)/N)+1)]\n",
    "bins.head()"
   ]
  },
  {
   "cell_type": "code",
   "execution_count": null,
   "id": "0d54befc-0805-4e97-b578-13c1bb301b9d",
   "metadata": {
    "scrolled": true
   },
   "outputs": [],
   "source": [
    "nb_of_bins = len(bins)\n",
    "plt.figure(figsize=(10,5),dpi=200)\n",
    "plt.rcParams.update({'font.size': 12,'axes.labelsize': 14})\n",
    "ax=plt.bar([i for i in range(0,nb_of_bins)],height=list(bins[\"occurrences\"]),width=1,color=sns.color_palette(\"colorblind\",as_cmap=True)[0])\n",
    "plt.yscale('log')\n",
    "plt.xticks([0,50,100,150,200], [\"1\",\"50\",\"101\",\"151\",\"201\"])\n",
    "plt.yticks(np.array([1.e+04, 1.e+05, 1.e+06, 1.e+07]),[\"10,000\",\"100,000\",\"1,000,000\",\"10,000,000\"])\n",
    "plt.xlabel(\"Bins of 10,000 Labels\")\n",
    "plt.ylabel(\"Usage Frequency (Log Scale)\")\n",
    "plt.savefig(constants.FIGURES_ROOT / 'labels_usage.pdf',transparent=True,bbox_inches = 'tight')"
   ]
  },
  {
   "cell_type": "code",
   "execution_count": null,
   "id": "ec221cbe-45b4-430a-875b-354163fee04b",
   "metadata": {
    "scrolled": true
   },
   "outputs": [],
   "source": [
    "wordcloud_dict_labels = dict(zip(cnts_labels.label, cnts_labels.occurrences))\n",
    "wordcloud_dict_labels = {k: v for k, v in wordcloud_dict_labels.items() if '\\n' not in k}\n",
    "wordcloud = WordCloud(min_word_length=2,background_color='white',width=700, height=500)\n",
    "wordcloud.generate_from_frequencies(wordcloud_dict_labels)\n",
    "plt.figure(figsize=(20,10))\n",
    "plt.imshow(wordcloud.recolor(color_func = color_func), interpolation='bilinear')\n",
    "plt.axis('off')\n",
    "plt.savefig(constants.FIGURES_ROOT / 'word_cloud_labels.pdf',transparent=True,bbox_inches = 'tight')\n",
    "plt.show()"
   ]
  }
 ],
 "metadata": {
  "kernelspec": {
   "display_name": "ksapsam",
   "language": "python",
   "name": "ksapsam"
  },
  "language_info": {
   "codemirror_mode": {
    "name": "ipython",
    "version": 3
   },
   "file_extension": ".py",
   "mimetype": "text/x-python",
   "name": "python",
   "nbconvert_exporter": "python",
   "pygments_lexer": "ipython3",
   "version": "3.8.18"
  }
 },
 "nbformat": 4,
 "nbformat_minor": 5
}
